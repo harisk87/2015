{
 "cells": [
  {
   "cell_type": "code",
   "execution_count": 4,
   "metadata": {
    "collapsed": false,
    "slideshow": {
     "slide_type": "skip"
    }
   },
   "outputs": [],
   "source": [
    "## all imports\n",
    "from IPython.display import HTML\n",
    "import numpy as np\n",
    "import urllib2\n",
    "import bs4 #this is beautiful soup\n",
    "import time\n",
    "import operator\n",
    "import socket\n",
    "import cPickle\n",
    "import re # regular expressions\n",
    "\n",
    "from pandas import Series\n",
    "import pandas as pd\n",
    "from pandas import DataFrame\n",
    "\n",
    "import matplotlib\n",
    "import matplotlib.pyplot as plt\n",
    "%matplotlib inline\n",
    "\n",
    "import seaborn as sns\n",
    "sns.set_context(\"talk\")\n",
    "sns.set_style(\"white\")"
   ]
  },
  {
   "cell_type": "markdown",
   "metadata": {
    "slideshow": {
     "slide_type": "skip"
    }
   },
   "source": [
    "API registrations\n",
    "=================\n",
    "\n",
    "If you would like to run all the examples in this notebook, you need to register for the following APIs:\n",
    "\n",
    "* Rotten Tomatoes\n",
    "\n",
    "http://developer.rottentomatoes.com/member/register\n",
    "\n",
    "* Twitter\n",
    "\n",
    "https://apps.twitter.com/app/new\n",
    "\n",
    "* Twitter instructions\n",
    "\n",
    "https://twittercommunity.com/t/how-to-get-my-api-key/7033"
   ]
  },
  {
   "cell_type": "markdown",
   "metadata": {
    "slideshow": {
     "slide_type": "slide"
    }
   },
   "source": [
    "CS109\n",
    "=====\n",
    "\n",
    "Verena Kaynig-Fittkau, Joe Blitzstein, Hanspeter Pfister\n",
    "\n",
    "* vkaynig@seas.harvard.edu\n",
    "* staff@cs109.org"
   ]
  },
  {
   "cell_type": "markdown",
   "metadata": {
    "slideshow": {
     "slide_type": "slide"
    }
   },
   "source": [
    "Announcements\n",
    "==============\n",
    "\n",
    "* Over 400 sign ups on github!\n",
    "* If you are still missing, fill out the survey, time is running out!\n",
    "* Make sure you are on Piazza!\n",
    "\n",
    "\n",
    "* More [git help](https://www.youtube.com/channel/UC0-KaiZFXBlGOFN71YsEV8g/videos)\n",
    "\n",
    "\n",
    "* HW0 is due on Thursday \n",
    "* HW1 is coming out on Thursday\n"
   ]
  },
  {
   "cell_type": "markdown",
   "metadata": {
    "slideshow": {
     "slide_type": "slide"
    }
   },
   "source": [
    "Todays lecture:\n",
    "===============\n",
    "\n",
    "* introduction to pandas\n",
    "    - read a table\n",
    "    - do some plots\n",
    "\n",
    "* all about data scraping\n",
    "* ***What is it? ***\n",
    "* How to do it:\n",
    "    - from a website\n",
    "    - with an API"
   ]
  },
  {
   "cell_type": "markdown",
   "metadata": {
    "slideshow": {
     "slide_type": "skip"
    }
   },
   "source": [
    "Answer: Data scraping is about obtaining data from webpages. There is low level scraping where you parse the data out of the html code of the webpage. There also is scraping over APIs from websites who try to make your life a bit easier."
   ]
  },
  {
   "cell_type": "markdown",
   "metadata": {
    "slideshow": {
     "slide_type": "slide"
    }
   },
   "source": [
    "IPython Notebooks:\n",
    "===================\n",
    "\n",
    "![IPython](images/ipython.png \"IPython\")"
   ]
  },
  {
   "cell_type": "markdown",
   "metadata": {
    "collapsed": true,
    "slideshow": {
     "slide_type": "slide"
    }
   },
   "source": [
    "IPython Notebooks:\n",
    "===================\n",
    "\n",
    "* These slides are an IPython notebook!\n",
    "* https://github.com/damianavila/live_reveal"
   ]
  },
  {
   "cell_type": "code",
   "execution_count": 5,
   "metadata": {
    "collapsed": false
   },
   "outputs": [
    {
     "name": "stdout",
     "output_type": "stream",
     "text": [
      "Hello CS109\n",
      "I love IPython\n"
     ]
    }
   ],
   "source": [
    "print \"Hello CS109\"\n",
    "\n",
    "print \"I love IPython\"\n",
    "\n",
    "# Ipython notebook have tab completion!\n",
    "# and inbuild help\n",
    "  \n",
    "a = np.zeros(3)\n",
    "a.clip?"
   ]
  },
  {
   "cell_type": "markdown",
   "metadata": {
    "slideshow": {
     "slide_type": "slide"
    }
   },
   "source": [
    "General advice about programming\n",
    "==================================\n",
    "\n",
    "* You will find nearly everything on google\n",
    "* Try: length of a list in python\n",
    "* A programmer is someone who can turn stack overflow snippets into running code\n",
    "* Use tab completion\n",
    "* Make your variable names meaningful\n"
   ]
  },
  {
   "cell_type": "markdown",
   "metadata": {
    "slideshow": {
     "slide_type": "slide"
    }
   },
   "source": [
    "How to load a table\n",
    "===================\n",
    "\n",
    "* we use Pandas for this\n",
    "* Pandas can do a __lot__ more\n",
    "* more about it later"
   ]
  },
  {
   "cell_type": "markdown",
   "metadata": {
    "slideshow": {
     "slide_type": "slide"
    }
   },
   "source": [
    "The MovieLens data\n",
    "===================\n",
    "\n",
    "http://grouplens.org/datasets/movielens/\n",
    "\n",
    "![Grouplens](images/grouplens.jpg \"Grouplens\")\n",
    "\n",
    "Example inspired by [Greg Reda](http://www.gregreda.com/2013/10/26/using-pandas-on-the-movielens-dataset/)"
   ]
  },
  {
   "cell_type": "markdown",
   "metadata": {
    "slideshow": {
     "slide_type": "slide"
    }
   },
   "source": [
    "Read the user data\n",
    "=================="
   ]
  },
  {
   "cell_type": "code",
   "execution_count": 6,
   "metadata": {
    "collapsed": false,
    "slideshow": {
     "slide_type": "-"
    }
   },
   "outputs": [
    {
     "data": {
      "text/html": [
       "<div>\n",
       "<table border=\"1\" class=\"dataframe\">\n",
       "  <thead>\n",
       "    <tr style=\"text-align: right;\">\n",
       "      <th></th>\n",
       "      <th>user_id</th>\n",
       "      <th>age</th>\n",
       "      <th>sex</th>\n",
       "      <th>occupation</th>\n",
       "      <th>zip_code</th>\n",
       "    </tr>\n",
       "  </thead>\n",
       "  <tbody>\n",
       "    <tr>\n",
       "      <th>0</th>\n",
       "      <td>1</td>\n",
       "      <td>24</td>\n",
       "      <td>M</td>\n",
       "      <td>technician</td>\n",
       "      <td>85711</td>\n",
       "    </tr>\n",
       "    <tr>\n",
       "      <th>1</th>\n",
       "      <td>2</td>\n",
       "      <td>53</td>\n",
       "      <td>F</td>\n",
       "      <td>other</td>\n",
       "      <td>94043</td>\n",
       "    </tr>\n",
       "    <tr>\n",
       "      <th>2</th>\n",
       "      <td>3</td>\n",
       "      <td>23</td>\n",
       "      <td>M</td>\n",
       "      <td>writer</td>\n",
       "      <td>32067</td>\n",
       "    </tr>\n",
       "    <tr>\n",
       "      <th>3</th>\n",
       "      <td>4</td>\n",
       "      <td>24</td>\n",
       "      <td>M</td>\n",
       "      <td>technician</td>\n",
       "      <td>43537</td>\n",
       "    </tr>\n",
       "    <tr>\n",
       "      <th>4</th>\n",
       "      <td>5</td>\n",
       "      <td>33</td>\n",
       "      <td>F</td>\n",
       "      <td>other</td>\n",
       "      <td>15213</td>\n",
       "    </tr>\n",
       "  </tbody>\n",
       "</table>\n",
       "</div>"
      ],
      "text/plain": [
       "   user_id  age sex  occupation zip_code\n",
       "0        1   24   M  technician    85711\n",
       "1        2   53   F       other    94043\n",
       "2        3   23   M      writer    32067\n",
       "3        4   24   M  technician    43537\n",
       "4        5   33   F       other    15213"
      ]
     },
     "execution_count": 6,
     "metadata": {},
     "output_type": "execute_result"
    }
   ],
   "source": [
    "# pass in column names for each CSV\n",
    "u_cols = ['user_id', 'age', 'sex', 'occupation', 'zip_code']\n",
    "\n",
    "users = pd.read_csv(\n",
    "    'http://files.grouplens.org/datasets/movielens/ml-100k/u.user', \n",
    "    sep='|', names=u_cols)\n",
    "\n",
    "users.head()"
   ]
  },
  {
   "cell_type": "markdown",
   "metadata": {
    "slideshow": {
     "slide_type": "slide"
    }
   },
   "source": [
    "Read the ratings\n",
    "============"
   ]
  },
  {
   "cell_type": "code",
   "execution_count": 7,
   "metadata": {
    "collapsed": false
   },
   "outputs": [
    {
     "data": {
      "text/html": [
       "<div>\n",
       "<table border=\"1\" class=\"dataframe\">\n",
       "  <thead>\n",
       "    <tr style=\"text-align: right;\">\n",
       "      <th></th>\n",
       "      <th>user_id</th>\n",
       "      <th>movie_id</th>\n",
       "      <th>rating</th>\n",
       "      <th>unix_timestamp</th>\n",
       "    </tr>\n",
       "  </thead>\n",
       "  <tbody>\n",
       "    <tr>\n",
       "      <th>0</th>\n",
       "      <td>196</td>\n",
       "      <td>242</td>\n",
       "      <td>3</td>\n",
       "      <td>881250949</td>\n",
       "    </tr>\n",
       "    <tr>\n",
       "      <th>1</th>\n",
       "      <td>186</td>\n",
       "      <td>302</td>\n",
       "      <td>3</td>\n",
       "      <td>891717742</td>\n",
       "    </tr>\n",
       "    <tr>\n",
       "      <th>2</th>\n",
       "      <td>22</td>\n",
       "      <td>377</td>\n",
       "      <td>1</td>\n",
       "      <td>878887116</td>\n",
       "    </tr>\n",
       "    <tr>\n",
       "      <th>3</th>\n",
       "      <td>244</td>\n",
       "      <td>51</td>\n",
       "      <td>2</td>\n",
       "      <td>880606923</td>\n",
       "    </tr>\n",
       "    <tr>\n",
       "      <th>4</th>\n",
       "      <td>166</td>\n",
       "      <td>346</td>\n",
       "      <td>1</td>\n",
       "      <td>886397596</td>\n",
       "    </tr>\n",
       "  </tbody>\n",
       "</table>\n",
       "</div>"
      ],
      "text/plain": [
       "   user_id  movie_id  rating  unix_timestamp\n",
       "0      196       242       3       881250949\n",
       "1      186       302       3       891717742\n",
       "2       22       377       1       878887116\n",
       "3      244        51       2       880606923\n",
       "4      166       346       1       886397596"
      ]
     },
     "execution_count": 7,
     "metadata": {},
     "output_type": "execute_result"
    }
   ],
   "source": [
    "r_cols = ['user_id', 'movie_id', 'rating', 'unix_timestamp']\n",
    "ratings = pd.read_csv(\n",
    "    'http://files.grouplens.org/datasets/movielens/ml-100k/u.data', \n",
    "    sep='\\t', names=r_cols)\n",
    "\n",
    "ratings.head() "
   ]
  },
  {
   "cell_type": "markdown",
   "metadata": {
    "slideshow": {
     "slide_type": "slide"
    }
   },
   "source": [
    "Now data about the movies\n",
    "========================="
   ]
  },
  {
   "cell_type": "code",
   "execution_count": 8,
   "metadata": {
    "collapsed": false
   },
   "outputs": [
    {
     "data": {
      "text/html": [
       "<div>\n",
       "<table border=\"1\" class=\"dataframe\">\n",
       "  <thead>\n",
       "    <tr style=\"text-align: right;\">\n",
       "      <th></th>\n",
       "      <th>movie_id</th>\n",
       "      <th>title</th>\n",
       "      <th>release_date</th>\n",
       "      <th>video_release_date</th>\n",
       "      <th>imdb_url</th>\n",
       "    </tr>\n",
       "  </thead>\n",
       "  <tbody>\n",
       "    <tr>\n",
       "      <th>0</th>\n",
       "      <td>1</td>\n",
       "      <td>Toy Story (1995)</td>\n",
       "      <td>01-Jan-1995</td>\n",
       "      <td>NaN</td>\n",
       "      <td>http://us.imdb.com/M/title-exact?Toy%20Story%2...</td>\n",
       "    </tr>\n",
       "    <tr>\n",
       "      <th>1</th>\n",
       "      <td>2</td>\n",
       "      <td>GoldenEye (1995)</td>\n",
       "      <td>01-Jan-1995</td>\n",
       "      <td>NaN</td>\n",
       "      <td>http://us.imdb.com/M/title-exact?GoldenEye%20(...</td>\n",
       "    </tr>\n",
       "    <tr>\n",
       "      <th>2</th>\n",
       "      <td>3</td>\n",
       "      <td>Four Rooms (1995)</td>\n",
       "      <td>01-Jan-1995</td>\n",
       "      <td>NaN</td>\n",
       "      <td>http://us.imdb.com/M/title-exact?Four%20Rooms%...</td>\n",
       "    </tr>\n",
       "    <tr>\n",
       "      <th>3</th>\n",
       "      <td>4</td>\n",
       "      <td>Get Shorty (1995)</td>\n",
       "      <td>01-Jan-1995</td>\n",
       "      <td>NaN</td>\n",
       "      <td>http://us.imdb.com/M/title-exact?Get%20Shorty%...</td>\n",
       "    </tr>\n",
       "    <tr>\n",
       "      <th>4</th>\n",
       "      <td>5</td>\n",
       "      <td>Copycat (1995)</td>\n",
       "      <td>01-Jan-1995</td>\n",
       "      <td>NaN</td>\n",
       "      <td>http://us.imdb.com/M/title-exact?Copycat%20(1995)</td>\n",
       "    </tr>\n",
       "  </tbody>\n",
       "</table>\n",
       "</div>"
      ],
      "text/plain": [
       "   movie_id              title release_date  video_release_date  \\\n",
       "0         1   Toy Story (1995)  01-Jan-1995                 NaN   \n",
       "1         2   GoldenEye (1995)  01-Jan-1995                 NaN   \n",
       "2         3  Four Rooms (1995)  01-Jan-1995                 NaN   \n",
       "3         4  Get Shorty (1995)  01-Jan-1995                 NaN   \n",
       "4         5     Copycat (1995)  01-Jan-1995                 NaN   \n",
       "\n",
       "                                            imdb_url  \n",
       "0  http://us.imdb.com/M/title-exact?Toy%20Story%2...  \n",
       "1  http://us.imdb.com/M/title-exact?GoldenEye%20(...  \n",
       "2  http://us.imdb.com/M/title-exact?Four%20Rooms%...  \n",
       "3  http://us.imdb.com/M/title-exact?Get%20Shorty%...  \n",
       "4  http://us.imdb.com/M/title-exact?Copycat%20(1995)  "
      ]
     },
     "execution_count": 8,
     "metadata": {},
     "output_type": "execute_result"
    }
   ],
   "source": [
    "# the movies file contains columns indicating the movie's genres\n",
    "# let's only load the first five columns of the file with usecols\n",
    "m_cols = ['movie_id', 'title', 'release_date', \n",
    "            'video_release_date', 'imdb_url']\n",
    "\n",
    "movies = pd.read_csv(\n",
    "    'http://files.grouplens.org/datasets/movielens/ml-100k/u.item', \n",
    "    sep='|', names=m_cols, usecols=range(5))\n",
    "\n",
    "movies.head()"
   ]
  },
  {
   "cell_type": "markdown",
   "metadata": {
    "slideshow": {
     "slide_type": "slide"
    }
   },
   "source": [
    "Get information about data\n",
    "======================="
   ]
  },
  {
   "cell_type": "code",
   "execution_count": 30,
   "metadata": {
    "collapsed": false
   },
   "outputs": [
    {
     "name": "stdout",
     "output_type": "stream",
     "text": [
      "movie_id                int64\n",
      "title                  object\n",
      "release_date           object\n",
      "video_release_date    float64\n",
      "imdb_url               object\n",
      "dtype: object\n",
      "\n",
      "          movie_id  video_release_date\n",
      "count  1682.000000                 0.0\n",
      "mean    841.500000                 NaN\n",
      "std     485.695893                 NaN\n",
      "min       1.000000                 NaN\n",
      "25%     421.250000                 NaN\n",
      "50%     841.500000                 NaN\n",
      "75%    1261.750000                 NaN\n",
      "max    1682.000000                 NaN\n"
     ]
    }
   ],
   "source": [
    "print movies.dtypes\n",
    "print\n",
    "print movies.describe()\n",
    "# *** Why only those two columns? ***"
   ]
  },
  {
   "cell_type": "markdown",
   "metadata": {
    "slideshow": {
     "slide_type": "slide"
    }
   },
   "source": [
    "Selecting data\n",
    "==============\n",
    "\n",
    "* DataFrame => group of Series with shared index\n",
    "* single DataFrame column => Series"
   ]
  },
  {
   "cell_type": "code",
   "execution_count": 10,
   "metadata": {
    "collapsed": false,
    "slideshow": {
     "slide_type": "slide"
    }
   },
   "outputs": [
    {
     "name": "stdout",
     "output_type": "stream",
     "text": [
      "   occupation sex\n",
      "0  technician   M\n",
      "1       other   F\n",
      "2      writer   M\n",
      "3  technician   M\n",
      "4       other   F\n"
     ]
    }
   ],
   "source": [
    "users.head()\n",
    "users['occupation'].head()\n",
    "## *** Where did the nice design go? ***\n",
    "columns_you_want = ['occupation', 'sex'] \n",
    "print users[columns_you_want].head()\n",
    "\n",
    "#print users.head()\n",
    "\n",
    "#print users.iloc[3]"
   ]
  },
  {
   "cell_type": "markdown",
   "metadata": {
    "slideshow": {
     "slide_type": "slide"
    }
   },
   "source": [
    "Filtering data\n",
    "==============\n",
    "\n",
    "Select users older than 25"
   ]
  },
  {
   "cell_type": "code",
   "execution_count": 32,
   "metadata": {
    "collapsed": false
   },
   "outputs": [
    {
     "data": {
      "text/html": [
       "<div>\n",
       "<table border=\"1\" class=\"dataframe\">\n",
       "  <thead>\n",
       "    <tr style=\"text-align: right;\">\n",
       "      <th></th>\n",
       "      <th>user_id</th>\n",
       "      <th>age</th>\n",
       "      <th>sex</th>\n",
       "      <th>occupation</th>\n",
       "      <th>zip_code</th>\n",
       "    </tr>\n",
       "  </thead>\n",
       "  <tbody>\n",
       "    <tr>\n",
       "      <th>1</th>\n",
       "      <td>2</td>\n",
       "      <td>53</td>\n",
       "      <td>F</td>\n",
       "      <td>other</td>\n",
       "      <td>94043</td>\n",
       "    </tr>\n",
       "    <tr>\n",
       "      <th>4</th>\n",
       "      <td>5</td>\n",
       "      <td>33</td>\n",
       "      <td>F</td>\n",
       "      <td>other</td>\n",
       "      <td>15213</td>\n",
       "    </tr>\n",
       "    <tr>\n",
       "      <th>5</th>\n",
       "      <td>6</td>\n",
       "      <td>42</td>\n",
       "      <td>M</td>\n",
       "      <td>executive</td>\n",
       "      <td>98101</td>\n",
       "    </tr>\n",
       "    <tr>\n",
       "      <th>6</th>\n",
       "      <td>7</td>\n",
       "      <td>57</td>\n",
       "      <td>M</td>\n",
       "      <td>administrator</td>\n",
       "      <td>91344</td>\n",
       "    </tr>\n",
       "    <tr>\n",
       "      <th>7</th>\n",
       "      <td>8</td>\n",
       "      <td>36</td>\n",
       "      <td>M</td>\n",
       "      <td>administrator</td>\n",
       "      <td>05201</td>\n",
       "    </tr>\n",
       "  </tbody>\n",
       "</table>\n",
       "</div>"
      ],
      "text/plain": [
       "   user_id  age sex     occupation zip_code\n",
       "1        2   53   F          other    94043\n",
       "4        5   33   F          other    15213\n",
       "5        6   42   M      executive    98101\n",
       "6        7   57   M  administrator    91344\n",
       "7        8   36   M  administrator    05201"
      ]
     },
     "execution_count": 32,
     "metadata": {},
     "output_type": "execute_result"
    }
   ],
   "source": [
    "oldUsers = users[users.age > 25]\n",
    "oldUsers.head()"
   ]
  },
  {
   "cell_type": "markdown",
   "metadata": {
    "slideshow": {
     "slide_type": "slide"
    }
   },
   "source": [
    "Quiz:\n",
    "=====\n",
    "\n",
    "* show users aged 40 and male\n",
    "\n",
    "* show the mean age of female programmers"
   ]
  },
  {
   "cell_type": "code",
   "execution_count": 12,
   "metadata": {
    "collapsed": false,
    "slideshow": {
     "slide_type": "slide"
    }
   },
   "outputs": [
    {
     "data": {
      "text/html": [
       "<div>\n",
       "<table border=\"1\" class=\"dataframe\">\n",
       "  <thead>\n",
       "    <tr style=\"text-align: right;\">\n",
       "      <th></th>\n",
       "      <th>user_id</th>\n",
       "      <th>age</th>\n",
       "      <th>sex</th>\n",
       "      <th>occupation</th>\n",
       "      <th>zip_code</th>\n",
       "    </tr>\n",
       "  </thead>\n",
       "  <tbody>\n",
       "    <tr>\n",
       "      <th>18</th>\n",
       "      <td>19</td>\n",
       "      <td>40</td>\n",
       "      <td>M</td>\n",
       "      <td>librarian</td>\n",
       "      <td>02138</td>\n",
       "    </tr>\n",
       "    <tr>\n",
       "      <th>82</th>\n",
       "      <td>83</td>\n",
       "      <td>40</td>\n",
       "      <td>M</td>\n",
       "      <td>other</td>\n",
       "      <td>44133</td>\n",
       "    </tr>\n",
       "    <tr>\n",
       "      <th>115</th>\n",
       "      <td>116</td>\n",
       "      <td>40</td>\n",
       "      <td>M</td>\n",
       "      <td>healthcare</td>\n",
       "      <td>97232</td>\n",
       "    </tr>\n",
       "  </tbody>\n",
       "</table>\n",
       "</div>"
      ],
      "text/plain": [
       "     user_id  age sex  occupation zip_code\n",
       "18        19   40   M   librarian    02138\n",
       "82        83   40   M       other    44133\n",
       "115      116   40   M  healthcare    97232"
      ]
     },
     "execution_count": 12,
     "metadata": {},
     "output_type": "execute_result"
    }
   ],
   "source": [
    "# users aged 40 AND male\n",
    "users[(users.age == 40) & (users.sex == 'M')].head(3)"
   ]
  },
  {
   "cell_type": "code",
   "execution_count": 13,
   "metadata": {
    "collapsed": false,
    "slideshow": {
     "slide_type": "slide"
    }
   },
   "outputs": [
    {
     "name": "stdout",
     "output_type": "stream",
     "text": [
      "          user_id        age\n",
      "count    6.000000   6.000000\n",
      "mean   411.166667  32.166667\n",
      "std    149.987222   5.115336\n",
      "min    292.000000  26.000000\n",
      "25%    313.000000  28.250000\n",
      "50%    378.000000  32.000000\n",
      "75%    416.750000  36.500000\n",
      "max    698.000000  38.000000\n",
      "32.1666666667\n",
      "32.1666666667\n"
     ]
    }
   ],
   "source": [
    "## users who are female and programmers\n",
    "selected_users = users[(users.sex == 'F') & \n",
    "                       (users.occupation == 'programmer')]\n",
    "\n",
    "## show statistic summary\n",
    "print selected_users.describe()\n",
    "\n",
    "## alternatives:\n",
    "print selected_users.age.mean()\n",
    "print selected_users['age'].mean()"
   ]
  },
  {
   "cell_type": "markdown",
   "metadata": {
    "slideshow": {
     "slide_type": "slide"
    }
   },
   "source": [
    "Split-apply-combine\n",
    "===================\n",
    "\n",
    "* splitting the data into groups based on some criteria\n",
    "* applying a function to each group independently\n",
    "* combining the results into a data structure"
   ]
  },
  {
   "cell_type": "markdown",
   "metadata": {
    "slideshow": {
     "slide_type": "slide"
    }
   },
   "source": [
    "Split-apply-combine\n",
    "===================\n",
    "\n",
    "<img src=http://i.imgur.com/yjNkiwL.png></img>"
   ]
  },
  {
   "cell_type": "markdown",
   "metadata": {
    "slideshow": {
     "slide_type": "slide"
    }
   },
   "source": [
    "Find Diligent Users\n",
    "===================\n",
    "\n",
    "* split data per user ID\n",
    "* count ratings\n",
    "* combine result"
   ]
  },
  {
   "cell_type": "code",
   "execution_count": 51,
   "metadata": {
    "collapsed": false,
    "slideshow": {
     "slide_type": "slide"
    }
   },
   "outputs": [
    {
     "data": {
      "text/plain": [
       "user_id\n",
       "405    737\n",
       "655    685\n",
       "13     636\n",
       "450    540\n",
       "276    518\n",
       "Name: movie_id, dtype: int64"
      ]
     },
     "execution_count": 51,
     "metadata": {},
     "output_type": "execute_result"
    }
   ],
   "source": [
    "#print ratings.head()\n",
    "## split data\n",
    "#grouped_data = ratings.groupby('user_id')\n",
    "\n",
    "grouped_data = ratings['movie_id'].groupby(ratings['user_id'])\n",
    "#grouped_data.groups # THIS CODE REVEALS THE ACTUAL GROUPS\n",
    "\n",
    "## count and combine\n",
    "ratings_per_user = grouped_data.count().sort_values(ascending=False)\n",
    "\n",
    "ratings_per_user.head() # We see the 5 most diligent users by doing sort_values. can also do ratings_per_user.tail()\n",
    "# to see most useless reviewers"
   ]
  },
  {
   "cell_type": "markdown",
   "metadata": {
    "slideshow": {
     "slide_type": "slide"
    }
   },
   "source": [
    "Quiz\n",
    "====\n",
    "\n",
    "* get the average rating per movie\n",
    "* advanced: get the movie titles with the highest average rating"
   ]
  },
  {
   "cell_type": "code",
   "execution_count": 71,
   "metadata": {
    "collapsed": false,
    "slideshow": {
     "slide_type": "slide"
    }
   },
   "outputs": [
    {
     "name": "stdout",
     "output_type": "stream",
     "text": [
      "Average ratings:\n",
      "movie_id\n",
      "1    3.878319\n",
      "2    3.206107\n",
      "3    3.033333\n",
      "4    3.550239\n",
      "5    3.302326\n",
      "Name: rating, dtype: float64\n",
      "\n",
      "Maximum rating:\n",
      "5.0\n",
      "Int64Index([814, 1122, 1189, 1201, 1293, 1467, 1500, 1536, 1599, 1653], dtype='int64', name=u'movie_id')\n"
     ]
    }
   ],
   "source": [
    "## split data\n",
    "grouped_data = ratings['rating'].groupby(ratings['movie_id'])#EACH MOVIE ID IS ASSOCIATED WITH ALL IT'S RATINGS\n",
    "## average and combine\n",
    "average_ratings = grouped_data.mean()\n",
    "print \"Average ratings:\"\n",
    "print average_ratings.head()\n",
    "print\n",
    "\n",
    "maximum_rating = average_ratings.max()\n",
    "print \"Maximum rating:\"\n",
    "print maximum_rating\n",
    "good_movie_ids = average_ratings[average_ratings == maximum_rating].index #INDEX GIVES US THE ROW ATTRIBUTES\n",
    "# IF THERE WERE MORE THAN 1 COLUMN (IN THIS CASE AVERAGE RATING IS THE ONLY COLUMN, MAKING THIS A PANDAS SERIES\n",
    "# RATHER THAN A DATAFRAME), THEN WE CAN GET THE COLUMNS FROM .COLUMN\n",
    "print(good_movie_ids)"
   ]
  },
  {
   "cell_type": "code",
   "execution_count": 62,
   "metadata": {
    "collapsed": false,
    "slideshow": {
     "slide_type": "slide"
    }
   },
   "outputs": [
    {
     "name": "stdout",
     "output_type": "stream",
     "text": [
      "Good movie ids:\n",
      "Int64Index([814, 1122, 1189, 1201, 1293, 1467, 1500, 1536, 1599, 1653], dtype='int64', name=u'movie_id')\n",
      "\n",
      "Best movie titles\n",
      "813                         Great Day in Harlem, A (1994)\n",
      "1121                       They Made Me a Criminal (1939)\n",
      "1188                                   Prefontaine (1997)\n",
      "1200           Marlene Dietrich: Shadow and Light (1996) \n",
      "1292                                      Star Kid (1997)\n",
      "1466                 Saint of Fort Washington, The (1993)\n",
      "1499                            Santa with Muscles (1996)\n",
      "1535                                 Aiqing wansui (1994)\n",
      "1598                        Someone Else's America (1995)\n",
      "1652    Entertaining Angels: The Dorothy Day Story (1996)\n",
      "Name: title, dtype: object\n",
      "\n"
     ]
    }
   ],
   "source": [
    "print \"Good movie ids:\"\n",
    "print good_movie_ids\n",
    "print\n",
    "\n",
    "print \"Best movie titles\"\n",
    "print movies[movies.movie_id.isin(good_movie_ids)].title\n",
    "print"
   ]
  },
  {
   "cell_type": "code",
   "execution_count": 17,
   "metadata": {
    "collapsed": false,
    "slideshow": {
     "slide_type": "slide"
    }
   },
   "outputs": [
    {
     "name": "stdout",
     "output_type": "stream",
     "text": [
      "Number of ratings per movie\n",
      "movie_id\n",
      "814     1\n",
      "1122    1\n",
      "1189    3\n",
      "1201    1\n",
      "1293    3\n",
      "1467    2\n",
      "1500    2\n",
      "1536    1\n",
      "1599    1\n",
      "1653    1\n",
      "Name: rating, dtype: int64\n"
     ]
    }
   ],
   "source": [
    "how_many_ratings = grouped_data.count()\n",
    "print \"Number of ratings per movie\"\n",
    "print how_many_ratings[average_ratings == maximum_rating]"
   ]
  },
  {
   "cell_type": "markdown",
   "metadata": {
    "slideshow": {
     "slide_type": "slide"
    }
   },
   "source": [
    "Passing a Function\n",
    "==================\n"
   ]
  },
  {
   "cell_type": "code",
   "execution_count": 18,
   "metadata": {
    "collapsed": false
   },
   "outputs": [
    {
     "data": {
      "text/plain": [
       "movie_id\n",
       "1    3.878319\n",
       "2    3.206107\n",
       "3    3.033333\n",
       "4    3.550239\n",
       "5    3.302326\n",
       "Name: rating, dtype: float64"
      ]
     },
     "execution_count": 18,
     "metadata": {},
     "output_type": "execute_result"
    }
   ],
   "source": [
    "average_ratings = grouped_data.apply(lambda f: f.mean())\n",
    "average_ratings.head()"
   ]
  },
  {
   "cell_type": "markdown",
   "metadata": {
    "slideshow": {
     "slide_type": "slide"
    }
   },
   "source": [
    "Quiz\n",
    "====\n",
    "\n",
    "* get the average rating per user\n",
    "* advanced: list all occupations and if they are male or female dominant"
   ]
  },
  {
   "cell_type": "code",
   "execution_count": 74,
   "metadata": {
    "collapsed": false,
    "slideshow": {
     "slide_type": "slide"
    }
   },
   "outputs": [
    {
     "data": {
      "text/plain": [
       "user_id\n",
       "181    1.491954\n",
       "405    1.834464\n",
       "445    1.985185\n",
       "685    2.050000\n",
       "774    2.058036\n",
       "Name: rating, dtype: float64"
      ]
     },
     "execution_count": 74,
     "metadata": {},
     "output_type": "execute_result"
    }
   ],
   "source": [
    "grouped_data = ratings['rating'].groupby(ratings['user_id'])\n",
    "average_ratings = grouped_data.mean()\n",
    "average_ratings.sort_values(ascending=True).head()"
   ]
  },
  {
   "cell_type": "code",
   "execution_count": 20,
   "metadata": {
    "collapsed": false,
    "slideshow": {
     "slide_type": "slide"
    }
   },
   "outputs": [
    {
     "name": "stdout",
     "output_type": "stream",
     "text": [
      "occupation\n",
      "administrator     True\n",
      "artist            True\n",
      "doctor            True\n",
      "educator          True\n",
      "engineer          True\n",
      "entertainment     True\n",
      "executive         True\n",
      "healthcare       False\n",
      "homemaker        False\n",
      "lawyer            True\n",
      "librarian        False\n",
      "marketing         True\n",
      "none              True\n",
      "other             True\n",
      "programmer        True\n",
      "retired           True\n",
      "salesman          True\n",
      "scientist         True\n",
      "student           True\n",
      "technician        True\n",
      "writer            True\n",
      "Name: sex, dtype: bool\n",
      "\n",
      "\n"
     ]
    }
   ],
   "source": [
    "grouped_data = users['sex'].groupby(users['occupation'])\n",
    "male_dominant_occupations = grouped_data.apply(lambda f: \n",
    "                                               sum(f == 'M') > sum(f == 'F'))\n",
    "print male_dominant_occupations\n",
    "print '\\n'"
   ]
  },
  {
   "cell_type": "code",
   "execution_count": 21,
   "metadata": {
    "collapsed": false,
    "slideshow": {
     "slide_type": "slide"
    }
   },
   "outputs": [
    {
     "name": "stdout",
     "output_type": "stream",
     "text": [
      "number of male users: \n",
      "670\n",
      "number of female users: \n",
      "273\n"
     ]
    }
   ],
   "source": [
    "print 'number of male users: '\n",
    "print sum(users['sex'] == 'M')\n",
    "\n",
    "print 'number of female users: '\n",
    "print sum(users['sex'] == 'F')"
   ]
  },
  {
   "cell_type": "markdown",
   "metadata": {
    "slideshow": {
     "slide_type": "slide"
    }
   },
   "source": [
    "Pandas \"wrapup\"\n",
    "==========\n",
    "\n",
    "- create data frames\n",
    "- get sub-frames\n",
    "- filter data \n",
    "- use group-by\n",
    "- apply a user defined function\n",
    "\n",
    "\n",
    "![cute panda](images/cute_panda.jpg)"
   ]
  },
  {
   "cell_type": "markdown",
   "metadata": {
    "slideshow": {
     "slide_type": "slide"
    }
   },
   "source": [
    "Python data scraping\n",
    "====================\n",
    "\n",
    "* Why scrape the web?\n",
    "    - vast source of information\n",
    "    - automate tasks\n",
    "    - keep up with sites\n",
    "    - fun!\n",
    "\n",
    "** Can you think of examples ? **"
   ]
  },
  {
   "cell_type": "markdown",
   "metadata": {
    "slideshow": {
     "slide_type": "skip"
    }
   },
   "source": [
    "  \n",
    "Answer: Some examples we had were stock market monitoring, sports data, or airline prices."
   ]
  },
  {
   "cell_type": "markdown",
   "metadata": {
    "slideshow": {
     "slide_type": "slide"
    }
   },
   "source": [
    "Read and Tweet!\n",
    "=================\n",
    "\n",
    "![ReadTweet](http://developer.nytimes.com/files/readtweet.jpg)\n",
    "\n",
    "* by Justin Blinder\n",
    "* http://projects.justinblinder.com/We-Read-We-Tweet"
   ]
  },
  {
   "cell_type": "markdown",
   "metadata": {
    "slideshow": {
     "slide_type": "skip"
    }
   },
   "source": [
    "“We Read, We Tweet” geographically visualizes the dissemination of New York Times articles through Twitter. Each line connects the location of a tweet to the contextual location of the New York Times article it referenced. The lines are generated in a sequence based on the time in which a tweet occurs. The project explores digital news distribution in a temporal and spatial context through the social space of Twitter."
   ]
  },
  {
   "cell_type": "markdown",
   "metadata": {
    "slideshow": {
     "slide_type": "slide"
    }
   },
   "source": [
    "Twitter Sentiments\n",
    "=================\n",
    "\n",
    "![TwitterSentiments](http://www.csc.ncsu.edu/faculty/healey/tweet_viz/figs/tweet-viz-ex.png\n",
    " \"Twitter Sentiments\")\n",
    "\n",
    "* by Healey and Ramaswamy\n",
    "* http://www.csc.ncsu.edu/faculty/healey/tweet_viz/tweet_app/"
   ]
  },
  {
   "cell_type": "markdown",
   "metadata": {
    "slideshow": {
     "slide_type": "skip"
    }
   },
   "source": [
    "Type a keyword into the input field, then click the Query button. Recent tweets that contain your keyword are pulled from Twitter and visualized in the Sentiment tab as circles. Hover your mouse over a tweet or click on it to see its text."
   ]
  },
  {
   "cell_type": "markdown",
   "metadata": {
    "slideshow": {
     "slide_type": "slide"
    }
   },
   "source": [
    "Python data scraping\n",
    "====================\n",
    "\n",
    "* copyrights and permission:\n",
    "    - be careful and polite\n",
    "    - give credit\n",
    "    - care about media law\n",
    "    - don't be evil (no spam, overloading sites, etc.)"
   ]
  },
  {
   "cell_type": "markdown",
   "metadata": {
    "slideshow": {
     "slide_type": "slide"
    }
   },
   "source": [
    "Robots.txt\n",
    "==========\n",
    "\n",
    "![Robots.txt](images/robots_txt.jpg \"Robots.txt\")"
   ]
  },
  {
   "cell_type": "markdown",
   "metadata": {
    "slideshow": {
     "slide_type": "slide"
    }
   },
   "source": [
    "Robots.txt\n",
    "==========\n",
    "\n",
    "* specified by web site owner\n",
    "* gives instructions to web robots (aka your script)\n",
    "* is located at the top-level directory of the web server\n",
    "\n",
    "http://www.example.com/robots.txt\n",
    "\n",
    "If you want you can also have a look at\n",
    "\n",
    "http://google.com/robots.txt"
   ]
  },
  {
   "cell_type": "markdown",
   "metadata": {
    "slideshow": {
     "slide_type": "slide"
    }
   },
   "source": [
    "Robots.txt\n",
    "==========\n",
    "\n",
    "*** What does this one do? ***"
   ]
  },
  {
   "cell_type": "raw",
   "metadata": {},
   "source": [
    "\n",
    "User-agent: Google\n",
    "Disallow:\n",
    "\n",
    "User-agent: *\n",
    "Disallow: /"
   ]
  },
  {
   "cell_type": "markdown",
   "metadata": {
    "slideshow": {
     "slide_type": "skip"
    }
   },
   "source": [
    "Answer: This file allows google to search through everything on the server, while all others should stay completely away."
   ]
  },
  {
   "cell_type": "markdown",
   "metadata": {
    "slideshow": {
     "slide_type": "slide"
    }
   },
   "source": [
    "Things to consider:\n",
    "-------------------\n",
    "\n",
    "* can be just ignored\n",
    "* can be a security risk - *** Why? ***"
   ]
  },
  {
   "cell_type": "markdown",
   "metadata": {
    "slideshow": {
     "slide_type": "skip"
    }
   },
   "source": [
    "Answer: You are basically telling everybody who cares to look into the file where you have stored sensitive information."
   ]
  },
  {
   "cell_type": "markdown",
   "metadata": {
    "slideshow": {
     "slide_type": "slide"
    }
   },
   "source": [
    "Scraping with Python:\n",
    "=====================\n",
    "\n",
    "* scraping is all about HTML tags\n",
    "* bad news: \n",
    "    - need to learn about tags\n",
    "    - websites can be ugly"
   ]
  },
  {
   "cell_type": "markdown",
   "metadata": {
    "slideshow": {
     "slide_type": "slide"
    }
   },
   "source": [
    "HTML\n",
    "=====\n",
    "\n",
    "* HyperText Markup Language\n",
    "\n",
    "* standard for creating webpages\n",
    "\n",
    "* HTML tags \n",
    "    - have angle brackets\n",
    "    - typically come in pairs"
   ]
  },
  {
   "cell_type": "markdown",
   "metadata": {
    "slideshow": {
     "slide_type": "skip"
    }
   },
   "source": [
    "This is an example for a minimal webpage defined in HTML tags. The root tag is `<html>` and then you have the `<head>` tag. This part of the page typically includes the title of the page and might also have other meta information like the author or keywords that are important for search engines. The `<body>` tag marks the actual content of the page. You can play around with the `<h2>` tag trying different header levels. They range from 1 to 6. "
   ]
  },
  {
   "cell_type": "code",
   "execution_count": 22,
   "metadata": {
    "collapsed": false,
    "slideshow": {
     "slide_type": "slide"
    }
   },
   "outputs": [
    {
     "data": {
      "text/html": [
       "<!DOCTYPE html>\n",
       "<html>\n",
       "  <head>\n",
       "    <title>This is a title</title>\n",
       "  </head>\n",
       "  <body>\n",
       "    <h2> Test </h2>\n",
       "    <p>Hello world!</p>\n",
       "  </body>\n",
       "</html>"
      ],
      "text/plain": [
       "<IPython.core.display.HTML object>"
      ]
     },
     "execution_count": 22,
     "metadata": {},
     "output_type": "execute_result"
    }
   ],
   "source": [
    "htmlString = \"\"\"<!DOCTYPE html>\n",
    "<html>\n",
    "  <head>\n",
    "    <title>This is a title</title>\n",
    "  </head>\n",
    "  <body>\n",
    "    <h2> Test </h2>\n",
    "    <p>Hello world!</p>\n",
    "  </body>\n",
    "</html>\"\"\"\n",
    "\n",
    "htmlOutput = HTML(htmlString)\n",
    "htmlOutput"
   ]
  },
  {
   "cell_type": "markdown",
   "metadata": {
    "slideshow": {
     "slide_type": "slide"
    }
   },
   "source": [
    "Useful Tags\n",
    "===========\n",
    "\n",
    "* heading\n",
    "`<h1></h1> ... <h6></h6>`\n",
    "\n",
    "* paragraph\n",
    "`<p></p>` \n",
    "\n",
    "* line break\n",
    "`<br>` \n",
    "\n",
    "* link with attribute\n",
    "\n",
    "`<a href=\"http://www.example.com/\">An example link</a>`\n"
   ]
  },
  {
   "cell_type": "markdown",
   "metadata": {
    "slideshow": {
     "slide_type": "slide"
    }
   },
   "source": [
    "Scraping with Python:\n",
    "=====================\n",
    "\n",
    "* example of a beautifully simple webpage:\n",
    "\n",
    "http://www.crummy.com/software/BeautifulSoup"
   ]
  },
  {
   "cell_type": "markdown",
   "metadata": {
    "slideshow": {
     "slide_type": "slide"
    }
   },
   "source": [
    "Scraping with Python:\n",
    "=====================\n",
    "\n",
    "* good news: \n",
    "    - some browsers help\n",
    "    - look for: inspect element\n",
    "    - need only basic html\n",
    "    \n",
    "** Try 'Ctrl-Shift I' in Chrome **\n",
    "\n",
    "** Try 'Command-Option I' in Safari **\n"
   ]
  },
  {
   "cell_type": "markdown",
   "metadata": {
    "slideshow": {
     "slide_type": "slide"
    }
   },
   "source": [
    "Scraping with Python\n",
    "==================\n",
    "\n",
    "* different useful libraries:\n",
    "    - urllib\n",
    "    - beautifulsoup\n",
    "    - pattern\n",
    "    - soupy\n",
    "    - LXML\n",
    "    - ...\n",
    "    "
   ]
  },
  {
   "cell_type": "markdown",
   "metadata": {
    "slideshow": {
     "slide_type": "skip"
    }
   },
   "source": [
    "The following cell just defines a url as a string and then reads the data from that url using the `urllib` library. If you uncomment the print command you see that we got the whole HTML content of the page into the string variable source."
   ]
  },
  {
   "cell_type": "code",
   "execution_count": 178,
   "metadata": {
    "collapsed": false,
    "slideshow": {
     "slide_type": "slide"
    }
   },
   "outputs": [
    {
     "name": "stdout",
     "output_type": "stream",
     "text": [
      "<!DOCTYPE HTML PUBLIC \"-//W3C//DTD HTML 4.0 Transitional//EN\"\n",
      "\"http://www.w3.org/TR/REC-html40/transitional.dtd\">\n",
      "<html>\n",
      "<head>\n",
      "<meta http-equiv=\"Content-Type\" content=\"text/html; charset=utf-8\">\n",
      "<title>Beautiful Soup: We called him Tortoise because he taught us.</title>\n",
      "<link rev=\"made\" href=\"mailto:leonardr@segfault.org\">\n",
      "<link rel=\"stylesheet\" type=\"text/css\" href=\"/nb/themes/Default/nb.css\">\n",
      "<meta name=\"Description\" content=\"Beautiful Soup: a library designed for screen-scraping HTML and XML.\">\n",
      "<meta name=\"generator\" content=\"Markov Approximation 1.4 (module: leonardr)\">\n",
      "<meta name=\"author\" content=\"Leonard Richardson\">\n",
      "</head>\n",
      "<body bgcolor=\"white\" text=\"black\" link=\"blue\" vlink=\"660066\" alink=\"red\">\n",
      "<img align=\"right\" src=\"10.1.jpg\" width=\"250\"><br />\n",
      "\n",
      "<p>You didn't write that awful page. You're just trying to get some\n",
      "data out of it. Beautiful Soup is here to help. Since 2004, it's been\n",
      "saving programmers hours or days of work on quick-turnaround\n",
      "screen scraping projects.</p>\n",
      "\n",
      "<div align=\"center\">\n",
      "\n",
      "<a href=\"bs4/download/\"><h1>Beautiful Soup</h1></a>\n",
      "\n",
      "<p>\"A tremendous boon.\" -- Python411 Podcast</p>\n",
      "\n",
      "<p>[ <a href=\"#Download\">Download</a> | <a\n",
      "href=\"bs4/doc/\">Documentation</a> | <a href=\"#HallOfFame\">Hall of Fame</a> | <a href=\"https://code.launchpad.net/beautifulsoup\">Source</a> | <a href=\"https://groups.google.com/forum/?fromgroups#!forum/beautifulsoup\">Discussion group</a> ]</p>\n",
      "\n",
      "<small>If Beautiful Soup has saved you a lot of time and money, the\n",
      "best way to pay me back is to check out <a\n",
      "href=\"http://www.candlemarkandgleam.com/shop/constellation-games/\"><i>Constellation\n",
      "Games</i>, my sci-fi novel about alien video games</a>.<br />You can\n",
      "<a\n",
      "href=\"http://constellation.crummy.com/Constellation%20Games%20excerpt.html\">read\n",
      "the first two chapters for free</a>, and the full novel starts at 5\n",
      "USD. Thanks!</small> </div>\n",
      "\n",
      "<p><i>If you have questions, send them to <a\n",
      "href=\"https://groups.google.com/forum/?fromgroups#!forum/beautifulsoup\">the discussion\n",
      "group</a>. If you find a bug, <a href=\"https://bugs.launchpad.net/beautifulsoup/\">file it</a>.</i></p>\n",
      "\n",
      "<p>Beautiful Soup is a Python library designed for quick turnaround\n",
      "projects like screen-scraping. Three features make it powerful:\n",
      "\n",
      "<ol>\n",
      "\n",
      "<li>Beautiful Soup provides a few simple methods and Pythonic idioms\n",
      "for navigating, searching, and modifying a parse tree: a toolkit for\n",
      "dissecting a document and extracting what you need. It doesn't take\n",
      "much code to write an application\n",
      "\n",
      "<li>Beautiful Soup automatically converts incoming documents to\n",
      "Unicode and outgoing documents to UTF-8. You don't have to think\n",
      "about encodings, unless the document doesn't specify an encoding and\n",
      "Beautiful Soup can't detect one. Then you just have to specify the\n",
      "original encoding.\n",
      "\n",
      "<li>Beautiful Soup sits on top of popular Python parsers like <a\n",
      "href=\"http://lxml.de/\">lxml</a> and <a\n",
      "href=\"http://code.google.com/p/html5lib/\">html5lib</a>, allowing you\n",
      "to try out different parsing strategies or trade speed for\n",
      "flexibility.\n",
      "\n",
      "</ol>\n",
      "\n",
      "<p>Beautiful Soup parses anything you give it, and does the tree\n",
      "traversal stuff for you. You can tell it \"Find all the links\", or\n",
      "\"Find all the links of class <tt>externalLink</tt>\", or \"Find all the\n",
      "links whose urls match \"foo.com\", or \"Find the table heading that's\n",
      "got bold text, then give me that text.\"\n",
      "\n",
      "<p>Valuable data that was once locked up in poorly-designed websites\n",
      "is now within your reach. Projects that would have taken hours take\n",
      "only minutes with Beautiful Soup.\n",
      "\n",
      "<p>Interested? <a href=\"bs4/doc/\">Read more.</a>\n",
      "\n",
      "<a name=\"Download\"><h2>Download Beautiful Soup</h2></a>\n",
      "\n",
      "<p>The current release is <a href=\"bs4/download/\">Beautiful Soup\n",
      "4.4.1</a> (September 28, 2015). You can install Beautiful Soup 4 with\n",
      "<code>pip install beautifulsoup4</code>. It's also available as the\n",
      "<code>python-beautifulsoup4</code> package in Debian, Ubuntu, and\n",
      "Fedora.\n",
      "\n",
      "<p>Beautiful Soup 4 works on both Python 2 (2.6+) and Python 3.\n",
      "\n",
      "<p>Beautiful Soup is licensed under the MIT license, so you can also\n",
      "download the tarball, drop the <code>bs4/</code> directory into almost\n",
      "any Python application (or into your library path) and start using it\n",
      "immediately. (If you want to do this under Python 3, you will need to\n",
      "manually convert the code using <code>2to3</code>.)\n",
      "\n",
      "<h3>Beautiful Soup 3</h3>\n",
      "\n",
      "<p>Beautiful Soup 3 was the official release line of Beautiful Soup\n",
      "from May 2006 to March 2012. It is considered stable, and only\n",
      "critical security bugs will be fixed. <a\n",
      "href=\"http://www.crummy.com/software/BeautifulSoup/bs3/documentation.html\">Here's\n",
      "the Beautiful Soup 3 documentation.</a>\n",
      "\n",
      "<p>Beautiful Soup 3 works only under Python 2.x. It is licensed under\n",
      "the same license as Python itself.\n",
      "\n",
      "<p>The current release of Beautiful Soup 3 is <a\n",
      "href=\"download/3.x/BeautifulSoup-3.2.1.tar.gz\">3.2.1</a> (February 16,\n",
      "2012). You can install Beautiful Soup 3 with <code>pip install\n",
      "BeautifulSoup</code>. It's also available as\n",
      "<code>python-beautifulsoup</code> in Debian and Ubuntu, and as\n",
      "<code>python-BeautifulSoup</code> in Fedora.\n",
      "\n",
      "<p>You can also download the tarball and use\n",
      "<code>BeautifulSoup.py</code> in your project directly.\n",
      "\n",
      "\n",
      "<a name=\"HallOfFame\"><h2>Hall of Fame</h2></a>\n",
      "\n",
      "<p>Over the years, Beautiful Soup has been used in hundreds of\n",
      "different projects. There's no way I can list them all, but I want to\n",
      "highlight a few high-profile projects. Beautiful Soup isn't what makes\n",
      "these projects interesting, but it did make their completion easier:\n",
      "\n",
      "<ul>\n",
      "\n",
      "<li><a\n",
      " href=\"http://www.nytimes.com/2007/10/25/arts/design/25vide.html\">\"Movable\n",
      " Type\"</a>, a work of digital art on display in the lobby of the New\n",
      " York Times building, uses Beautiful Soup to scrape news feeds.\n",
      "\n",
      "<li>Reddit uses Beautiful Soup to <a\n",
      "href=\"https://github.com/reddit/reddit/blob/85f9cff3e2ab9bb8f19b96acd8da4ebacc079f04/r2/r2/lib/media.py\">parse\n",
      "a page that's been linked to and find a representative image</a>.\n",
      "\n",
      "<li>Alexander Harrowell uses Beautiful Soup to <a\n",
      " href=\"http://www.harrowell.org.uk/viktormap.html\">track the business\n",
      " activities</a> of an arms merchant.\n",
      "\n",
      "<li>The developers of Python itself used Beautiful Soup to <a\n",
      "href=\"http://svn.python.org/view/tracker/importer/\">migrate the Python\n",
      "bug tracker from Sourceforge to Roundup</a>.\n",
      "\n",
      "<li>The <a href=\"http://www2.ljworld.com/\">Lawrence Journal-World</a>\n",
      "uses Beautiful Soup to <A\n",
      "href=\"http://www.b-list.org/weblog/2010/nov/02/news-done-broke/\">gather\n",
      "statewide election results</a>.\n",
      "\n",
      "<li>The <a href=\"http://esrl.noaa.gov/gsd/fab/\">NOAA's Forecast\n",
      "Applications Branch</a> uses Beautiful Soup in <a\n",
      "href=\"http://laps.noaa.gov/topograbber/\">TopoGrabber</a>, a script for\n",
      "downloading \"high resolution USGS datasets.\"\n",
      "\n",
      "</ul>\n",
      "\n",
      "<p>If you've used Beautiful Soup in a project you'd like me to know\n",
      "about, please do send email to me or <a\n",
      "href=\"http://groups.google.com/group/beautifulsoup/\">the discussion\n",
      "group</a>.\n",
      "\n",
      "<h2>Development</h2>\n",
      "\n",
      "<p>Development happens at <a\n",
      "href=\"https://launchpad.net/beautifulsoup\">Launchpad</a>. You can <a\n",
      "href=\"https://code.launchpad.net/beautifulsoup/\">get the source\n",
      "code</a> or <a href=\"https://bugs.launchpad.net/beautifulsoup/\">file\n",
      "bugs</a>.<hr><table><tr><td valign=\"top\">\n",
      "<p>This document (<a href=\"/source/software/BeautifulSoup/index.bhtml\">source</a>) is part of Crummy, the webspace of <a href=\"/self/\">Leonard Richardson</a> (<a href=\"/self/contact.html\">contact information</a>). It was last modified on Tuesday, September 29 2015, 00:25:43 Nowhere Standard Time and last built on Sunday, June 05 2016, 20:00:02 Nowhere Standard Time.</p><p><table class=\"licenseText\"><tr><td><a href=\"http://creativecommons.org/licenses/by-sa/2.0/\"><img border=\"0\" src=\"/nb//resources/img/somerights20.jpg\"></a></td><td valign=\"top\">Crummy is &copy; 1996-2016 Leonard Richardson. Unless otherwise noted, all text licensed under a <a href=\"http://creativecommons.org/licenses/by-sa/2.0/\">Creative Commons License</a>.</td></tr></table></span><!--<rdf:RDF xmlns=\"http://web.resource.org/cc/\" xmlns:dc=\"http://purl.org/dc/elements/1.1/\" xmlns:rdf=\"http://www.w3.org/1999/02/22-rdf-syntax-ns#\"><Work rdf:about=\"http://www.crummy.com/\"><dc:title>Crummy: The Site</dc:title><dc:rights><Agent><dc:title>Crummy: the Site</dc:title></Agent></dc:rights><dc:format>text/html</dc:format><license rdf:resource=http://creativecommons.org/licenses/by-sa/2.0//></Work><License rdf:about=\"http://creativecommons.org/licenses/by-sa/2.0/\"></License></rdf:RDF>--></p></td><td valign=top><p><b>Document tree:</b>\n",
      "<dl><dd><a href=\"http://www.crummy.com/\">http://www.crummy.com/</a><dl><dd><a href=\"http://www.crummy.com/software/\">software/</a><dl><dd><a href=\"http://www.crummy.com/software/BeautifulSoup/\">BeautifulSoup/</a></dl>\n",
      "</dl>\n",
      "</dl>\n",
      "\n",
      "\n",
      "Site Search:\n",
      "\n",
      "<form method=\"get\" action=\"/search/\">\n",
      "        <input type=\"text\" name=\"q\" maxlength=\"255\" value=\"\"></input>\n",
      "        </form>\n",
      "        </td>\n",
      "\n",
      "</tr>\n",
      "\n",
      "</table>\n",
      "</body>\n",
      "</html>\n",
      "\n"
     ]
    }
   ],
   "source": [
    "url = 'http://www.crummy.com/software/BeautifulSoup'\n",
    "source = urllib2.urlopen(url).read()\n",
    "print source"
   ]
  },
  {
   "cell_type": "markdown",
   "metadata": {
    "slideshow": {
     "slide_type": "slide"
    }
   },
   "source": [
    "Quiz :\n",
    "======\n",
    "\n",
    "* Is the word 'Alice' mentioned on the beautiful soup homepage?\n",
    "* How often does the word 'Soup' occur on the site?\n",
    "    - hint: use `.count()`\n",
    "* At what index occurs the substring 'alien video games' ?\n",
    "    - hint: use `.find()`"
   ]
  },
  {
   "cell_type": "code",
   "execution_count": 179,
   "metadata": {
    "collapsed": false,
    "slideshow": {
     "slide_type": "slide"
    }
   },
   "outputs": [
    {
     "name": "stdout",
     "output_type": "stream",
     "text": [
      "False\n",
      "41\n",
      "1639\n",
      "alien video games</a\n",
      "alien video games\n"
     ]
    }
   ],
   "source": [
    "## is 'Alice' in source?\n",
    "print 'Alice' in source\n",
    "\n",
    "## count occurences of 'Soup'\n",
    "print source.count('Soup')\n",
    "\n",
    "## find index of 'alien video games'\n",
    "position =  source.find('alien video games')\n",
    "print position\n",
    "\n",
    "## quick test to see the substring in the source variable\n",
    "## you can access strings like lists\n",
    "print source[position:position + 20]\n",
    "\n",
    "## or the tidier version:\n",
    "print source[position:position + len('alien video games')]"
   ]
  },
  {
   "cell_type": "markdown",
   "metadata": {
    "slideshow": {
     "slide_type": "slide"
    }
   },
   "source": [
    "Beautiful Soup\n",
    "==============\n",
    "\n",
    "* designed to make your life easier\n",
    "* many good functions for parsing html code"
   ]
  },
  {
   "cell_type": "markdown",
   "metadata": {
    "slideshow": {
     "slide_type": "slide"
    }
   },
   "source": [
    "Some examples\n",
    "=============\n"
   ]
  },
  {
   "cell_type": "code",
   "execution_count": 180,
   "metadata": {
    "collapsed": false
   },
   "outputs": [
    {
     "data": {
      "text/plain": [
       "[<a href=\"bs4/download/\"><h1>Beautiful Soup</h1></a>,\n",
       " <a href=\"#Download\">Download</a>,\n",
       " <a href=\"bs4/doc/\">Documentation</a>,\n",
       " <a href=\"#HallOfFame\">Hall of Fame</a>,\n",
       " <a href=\"https://code.launchpad.net/beautifulsoup\">Source</a>,\n",
       " <a href=\"https://groups.google.com/forum/?fromgroups#!forum/beautifulsoup\">Discussion group</a>,\n",
       " <a href=\"http://www.candlemarkandgleam.com/shop/constellation-games/\"><i>Constellation\\nGames</i>, my sci-fi novel about alien video games</a>,\n",
       " <a href=\"http://constellation.crummy.com/Constellation%20Games%20excerpt.html\">read\\nthe first two chapters for free</a>,\n",
       " <a href=\"https://groups.google.com/forum/?fromgroups#!forum/beautifulsoup\">the discussion\\ngroup</a>,\n",
       " <a href=\"https://bugs.launchpad.net/beautifulsoup/\">file it</a>,\n",
       " <a href=\"http://lxml.de/\">lxml</a>,\n",
       " <a href=\"http://code.google.com/p/html5lib/\">html5lib</a>,\n",
       " <a href=\"bs4/doc/\">Read more.</a>,\n",
       " <a name=\"Download\"><h2>Download Beautiful Soup</h2></a>,\n",
       " <a href=\"bs4/download/\">Beautiful Soup\\n4.4.1</a>,\n",
       " <a href=\"http://www.crummy.com/software/BeautifulSoup/bs3/documentation.html\">Here's\\nthe Beautiful Soup 3 documentation.</a>,\n",
       " <a href=\"download/3.x/BeautifulSoup-3.2.1.tar.gz\">3.2.1</a>,\n",
       " <a name=\"HallOfFame\"><h2>Hall of Fame</h2></a>,\n",
       " <a href=\"http://www.nytimes.com/2007/10/25/arts/design/25vide.html\">\"Movable\\n Type\"</a>,\n",
       " <a href=\"https://github.com/reddit/reddit/blob/85f9cff3e2ab9bb8f19b96acd8da4ebacc079f04/r2/r2/lib/media.py\">parse\\na page that's been linked to and find a representative image</a>,\n",
       " <a href=\"http://www.harrowell.org.uk/viktormap.html\">track the business\\n activities</a>,\n",
       " <a href=\"http://svn.python.org/view/tracker/importer/\">migrate the Python\\nbug tracker from Sourceforge to Roundup</a>,\n",
       " <a href=\"http://www2.ljworld.com/\">Lawrence Journal-World</a>,\n",
       " <a href=\"http://www.b-list.org/weblog/2010/nov/02/news-done-broke/\">gather\\nstatewide election results</a>,\n",
       " <a href=\"http://esrl.noaa.gov/gsd/fab/\">NOAA's Forecast\\nApplications Branch</a>,\n",
       " <a href=\"http://laps.noaa.gov/topograbber/\">TopoGrabber</a>,\n",
       " <a href=\"http://groups.google.com/group/beautifulsoup/\">the discussion\\ngroup</a>,\n",
       " <a href=\"https://launchpad.net/beautifulsoup\">Launchpad</a>,\n",
       " <a href=\"https://code.launchpad.net/beautifulsoup/\">get the source\\ncode</a>,\n",
       " <a href=\"https://bugs.launchpad.net/beautifulsoup/\">file\\nbugs</a>,\n",
       " <a href=\"/source/software/BeautifulSoup/index.bhtml\">source</a>,\n",
       " <a href=\"/self/\">Leonard Richardson</a>,\n",
       " <a href=\"/self/contact.html\">contact information</a>,\n",
       " <a href=\"http://creativecommons.org/licenses/by-sa/2.0/\"><img border=\"0\" src=\"/nb//resources/img/somerights20.jpg\"/></a>,\n",
       " <a href=\"http://creativecommons.org/licenses/by-sa/2.0/\">Creative Commons License</a>,\n",
       " <a href=\"http://www.crummy.com/\">http://www.crummy.com/</a>,\n",
       " <a href=\"http://www.crummy.com/software/\">software/</a>,\n",
       " <a href=\"http://www.crummy.com/software/BeautifulSoup/\">BeautifulSoup/</a>]"
      ]
     },
     "execution_count": 180,
     "metadata": {},
     "output_type": "execute_result"
    }
   ],
   "source": [
    "## get bs4 object\n",
    "soup = bs4.BeautifulSoup(source, \"lxml\")\n",
    " \n",
    "## compare the two print statements\n",
    "#print soup\n",
    "#print soup.prettify()\n",
    "\n",
    "## show how to find all a tags\n",
    "soup.findAll('a')\n",
    "\n",
    "## ***Why does this not work? ***\n",
    "#soup.findAll('Soup')"
   ]
  },
  {
   "cell_type": "markdown",
   "metadata": {
    "slideshow": {
     "slide_type": "skip"
    }
   },
   "source": [
    "The last command only returns an empty list, because `Soup` is not an HTML tag. It is just a string that occours in the webpage."
   ]
  },
  {
   "cell_type": "markdown",
   "metadata": {
    "slideshow": {
     "slide_type": "slide"
    }
   },
   "source": [
    "Some examples\n",
    "============="
   ]
  },
  {
   "cell_type": "code",
   "execution_count": 76,
   "metadata": {
    "collapsed": false
   },
   "outputs": [
    {
     "data": {
      "text/plain": [
       "['bs4/download/',\n",
       " '#Download',\n",
       " 'bs4/doc/',\n",
       " '#HallOfFame',\n",
       " 'https://code.launchpad.net/beautifulsoup',\n",
       " 'https://groups.google.com/forum/?fromgroups#!forum/beautifulsoup',\n",
       " 'http://www.candlemarkandgleam.com/shop/constellation-games/',\n",
       " 'http://constellation.crummy.com/Constellation%20Games%20excerpt.html',\n",
       " 'https://groups.google.com/forum/?fromgroups#!forum/beautifulsoup',\n",
       " 'https://bugs.launchpad.net/beautifulsoup/',\n",
       " 'http://lxml.de/',\n",
       " 'http://code.google.com/p/html5lib/',\n",
       " 'bs4/doc/',\n",
       " None,\n",
       " 'bs4/download/',\n",
       " 'http://www.crummy.com/software/BeautifulSoup/bs3/documentation.html',\n",
       " 'download/3.x/BeautifulSoup-3.2.1.tar.gz',\n",
       " None,\n",
       " 'http://www.nytimes.com/2007/10/25/arts/design/25vide.html',\n",
       " 'https://github.com/reddit/reddit/blob/85f9cff3e2ab9bb8f19b96acd8da4ebacc079f04/r2/r2/lib/media.py',\n",
       " 'http://www.harrowell.org.uk/viktormap.html',\n",
       " 'http://svn.python.org/view/tracker/importer/',\n",
       " 'http://www2.ljworld.com/',\n",
       " 'http://www.b-list.org/weblog/2010/nov/02/news-done-broke/',\n",
       " 'http://esrl.noaa.gov/gsd/fab/',\n",
       " 'http://laps.noaa.gov/topograbber/',\n",
       " 'http://groups.google.com/group/beautifulsoup/',\n",
       " 'https://launchpad.net/beautifulsoup',\n",
       " 'https://code.launchpad.net/beautifulsoup/',\n",
       " 'https://bugs.launchpad.net/beautifulsoup/',\n",
       " '/source/software/BeautifulSoup/index.bhtml',\n",
       " '/self/',\n",
       " '/self/contact.html',\n",
       " 'http://creativecommons.org/licenses/by-sa/2.0/',\n",
       " 'http://creativecommons.org/licenses/by-sa/2.0/',\n",
       " 'http://www.crummy.com/',\n",
       " 'http://www.crummy.com/software/',\n",
       " 'http://www.crummy.com/software/BeautifulSoup/']"
      ]
     },
     "execution_count": 76,
     "metadata": {},
     "output_type": "execute_result"
    }
   ],
   "source": [
    "## get attribute value from an element:\n",
    "## find tag: this only returns the first occurrence, not all tags in the string\n",
    "first_tag = soup.find('a')\n",
    "\n",
    "## get attribute `href`\n",
    "first_tag.get('href')\n",
    "\n",
    "## get all links in the page\n",
    "link_list = [l.get('href') for l in soup.findAll('a')]\n",
    "link_list"
   ]
  },
  {
   "cell_type": "code",
   "execution_count": 27,
   "metadata": {
    "collapsed": false,
    "slideshow": {
     "slide_type": "slide"
    }
   },
   "outputs": [
    {
     "ename": "TypeError",
     "evalue": "'NoneType' object has no attribute '__getitem__'",
     "output_type": "error",
     "traceback": [
      "\u001b[1;31m---------------------------------------------------------------------------\u001b[0m",
      "\u001b[1;31mTypeError\u001b[0m                                 Traceback (most recent call last)",
      "\u001b[1;32m<ipython-input-27-db28b6c7151c>\u001b[0m in \u001b[0;36m<module>\u001b[1;34m()\u001b[0m\n\u001b[0;32m      6\u001b[0m \u001b[1;31m# if it starts with 'http' we are happy\u001b[0m\u001b[1;33m\u001b[0m\u001b[1;33m\u001b[0m\u001b[0m\n\u001b[0;32m      7\u001b[0m \u001b[1;32mfor\u001b[0m \u001b[0ml\u001b[0m \u001b[1;32min\u001b[0m \u001b[0mlink_list\u001b[0m\u001b[1;33m:\u001b[0m\u001b[1;33m\u001b[0m\u001b[0m\n\u001b[1;32m----> 8\u001b[1;33m     \u001b[1;32mif\u001b[0m \u001b[0ml\u001b[0m\u001b[1;33m[\u001b[0m\u001b[1;33m:\u001b[0m\u001b[1;36m4\u001b[0m\u001b[1;33m]\u001b[0m \u001b[1;33m==\u001b[0m \u001b[1;34m'http'\u001b[0m\u001b[1;33m:\u001b[0m\u001b[1;33m\u001b[0m\u001b[0m\n\u001b[0m\u001b[0;32m      9\u001b[0m         \u001b[0mexternal_links\u001b[0m\u001b[1;33m.\u001b[0m\u001b[0mappend\u001b[0m\u001b[1;33m(\u001b[0m\u001b[0ml\u001b[0m\u001b[1;33m)\u001b[0m\u001b[1;33m\u001b[0m\u001b[0m\n\u001b[0;32m     10\u001b[0m \u001b[1;33m\u001b[0m\u001b[0m\n",
      "\u001b[1;31mTypeError\u001b[0m: 'NoneType' object has no attribute '__getitem__'"
     ]
    }
   ],
   "source": [
    "## filter all external links\n",
    "# create an empty list to collect the valid links\n",
    "external_links = []\n",
    "\n",
    "# write a loop to filter the links\n",
    "# if it starts with 'http' we are happy\n",
    "for l in link_list:\n",
    "    if l[:4] == 'http':\n",
    "        external_links.append(l)\n",
    "\n",
    "# this throws an error! It says something about 'NoneType'"
   ]
  },
  {
   "cell_type": "code",
   "execution_count": 77,
   "metadata": {
    "collapsed": false,
    "slideshow": {
     "slide_type": "slide"
    }
   },
   "outputs": [
    {
     "name": "stdout",
     "output_type": "stream",
     "text": [
      "2\n"
     ]
    }
   ],
   "source": [
    "# lets investigate. Have a close look at the link_list:\n",
    "link_list\n",
    "\n",
    "# Seems that there are None elements!\n",
    "# Let's verify\n",
    "print sum([l is None for l in link_list])\n",
    "\n",
    "# So there are two elements in the list that are None!"
   ]
  },
  {
   "cell_type": "code",
   "execution_count": 78,
   "metadata": {
    "collapsed": false,
    "slideshow": {
     "slide_type": "slide"
    }
   },
   "outputs": [
    {
     "data": {
      "text/plain": [
       "['https://code.launchpad.net/beautifulsoup',\n",
       " 'https://groups.google.com/forum/?fromgroups#!forum/beautifulsoup',\n",
       " 'http://www.candlemarkandgleam.com/shop/constellation-games/',\n",
       " 'http://constellation.crummy.com/Constellation%20Games%20excerpt.html',\n",
       " 'https://groups.google.com/forum/?fromgroups#!forum/beautifulsoup',\n",
       " 'https://bugs.launchpad.net/beautifulsoup/',\n",
       " 'http://lxml.de/',\n",
       " 'http://code.google.com/p/html5lib/',\n",
       " 'http://www.crummy.com/software/BeautifulSoup/bs3/documentation.html',\n",
       " 'http://www.nytimes.com/2007/10/25/arts/design/25vide.html',\n",
       " 'https://github.com/reddit/reddit/blob/85f9cff3e2ab9bb8f19b96acd8da4ebacc079f04/r2/r2/lib/media.py',\n",
       " 'http://www.harrowell.org.uk/viktormap.html',\n",
       " 'http://svn.python.org/view/tracker/importer/',\n",
       " 'http://www2.ljworld.com/',\n",
       " 'http://www.b-list.org/weblog/2010/nov/02/news-done-broke/',\n",
       " 'http://esrl.noaa.gov/gsd/fab/',\n",
       " 'http://laps.noaa.gov/topograbber/',\n",
       " 'http://groups.google.com/group/beautifulsoup/',\n",
       " 'https://launchpad.net/beautifulsoup',\n",
       " 'https://code.launchpad.net/beautifulsoup/',\n",
       " 'https://bugs.launchpad.net/beautifulsoup/',\n",
       " 'http://creativecommons.org/licenses/by-sa/2.0/',\n",
       " 'http://creativecommons.org/licenses/by-sa/2.0/',\n",
       " 'http://www.crummy.com/',\n",
       " 'http://www.crummy.com/software/',\n",
       " 'http://www.crummy.com/software/BeautifulSoup/']"
      ]
     },
     "execution_count": 78,
     "metadata": {},
     "output_type": "execute_result"
    }
   ],
   "source": [
    "# Let's filter those objects out in the for loop\n",
    "external_links = []\n",
    "\n",
    "# write a loop to filter the links\n",
    "# if it is not None and starts with 'http' we are happy\n",
    "for l in link_list:\n",
    "    if l is not None and l[:4] == 'http':\n",
    "        external_links.append(l)\n",
    "        \n",
    "external_links"
   ]
  },
  {
   "cell_type": "markdown",
   "metadata": {
    "slideshow": {
     "slide_type": "skip"
    }
   },
   "source": [
    "Note: The above `if` condition works because of lazy evaluation in Python. The `and` statement becomes `False` if the first part is `False`, so there is no need to ever evaluate the second part. Thus a `None` entry in the list gets never asked about its first four characters. "
   ]
  },
  {
   "cell_type": "code",
   "execution_count": 79,
   "metadata": {
    "collapsed": false,
    "slideshow": {
     "slide_type": "slide"
    }
   },
   "outputs": [
    {
     "data": {
      "text/plain": [
       "['https://code.launchpad.net/beautifulsoup',\n",
       " 'https://groups.google.com/forum/?fromgroups#!forum/beautifulsoup',\n",
       " 'http://www.candlemarkandgleam.com/shop/constellation-games/',\n",
       " 'http://constellation.crummy.com/Constellation%20Games%20excerpt.html',\n",
       " 'https://groups.google.com/forum/?fromgroups#!forum/beautifulsoup',\n",
       " 'https://bugs.launchpad.net/beautifulsoup/',\n",
       " 'http://lxml.de/',\n",
       " 'http://code.google.com/p/html5lib/',\n",
       " 'http://www.crummy.com/software/BeautifulSoup/bs3/documentation.html',\n",
       " 'http://www.nytimes.com/2007/10/25/arts/design/25vide.html',\n",
       " 'https://github.com/reddit/reddit/blob/85f9cff3e2ab9bb8f19b96acd8da4ebacc079f04/r2/r2/lib/media.py',\n",
       " 'http://www.harrowell.org.uk/viktormap.html',\n",
       " 'http://svn.python.org/view/tracker/importer/',\n",
       " 'http://www2.ljworld.com/',\n",
       " 'http://www.b-list.org/weblog/2010/nov/02/news-done-broke/',\n",
       " 'http://esrl.noaa.gov/gsd/fab/',\n",
       " 'http://laps.noaa.gov/topograbber/',\n",
       " 'http://groups.google.com/group/beautifulsoup/',\n",
       " 'https://launchpad.net/beautifulsoup',\n",
       " 'https://code.launchpad.net/beautifulsoup/',\n",
       " 'https://bugs.launchpad.net/beautifulsoup/',\n",
       " 'http://creativecommons.org/licenses/by-sa/2.0/',\n",
       " 'http://creativecommons.org/licenses/by-sa/2.0/',\n",
       " 'http://www.crummy.com/',\n",
       " 'http://www.crummy.com/software/',\n",
       " 'http://www.crummy.com/software/BeautifulSoup/']"
      ]
     },
     "execution_count": 79,
     "metadata": {},
     "output_type": "execute_result"
    }
   ],
   "source": [
    "# and we can put this in a list comprehension as well, it almost reads like \n",
    "# a sentence.\n",
    "\n",
    "[l for l in link_list if l is not None and l.startswith('http')]"
   ]
  },
  {
   "cell_type": "markdown",
   "metadata": {
    "slideshow": {
     "slide_type": "slide"
    }
   },
   "source": [
    "Parsing the Tree\n",
    "================\n",
    "\n"
   ]
  },
  {
   "cell_type": "code",
   "execution_count": 90,
   "metadata": {
    "collapsed": false
   },
   "outputs": [
    {
     "name": "stdout",
     "output_type": "stream",
     "text": [
      "<html><head><title>This is a title</title></head><body><h3> Test </h3><p>Hello world!</p></body></html>\n",
      "<head><title>This is a title</title></head>\n",
      "<body><h3> Test </h3><p>Hello world!</p></body>\n",
      "<body><h3> Test </h3><p>Hello world!</p></body>\n"
     ]
    }
   ],
   "source": [
    "# redifining `s` without any line breaks\n",
    "s = \"\"\"<!DOCTYPE html><html><head><title>This is a title</title></head><body><h3> Test </h3><p>Hello world!</p></body></html>\"\"\"\n",
    "## get bs4 object\n",
    "tree = bs4.BeautifulSoup(s)\n",
    "## get html root node\n",
    "root_node = tree.html\n",
    "print root_node\n",
    "## get head from root using contents\n",
    "head = root_node.contents[0]\n",
    "print head\n",
    "## get body from root\n",
    "body = root_node.contents[1]\n",
    "print body\n",
    "## could directly access body\n",
    "print tree.body"
   ]
  },
  {
   "cell_type": "markdown",
   "metadata": {
    "slideshow": {
     "slide_type": "slide"
    }
   },
   "source": [
    "Quiz:\n",
    "=====\n",
    "\n",
    "* Find the `h3` tag by parsing the tree starting at `body`\n",
    "* Create a list of all __Hall of Fame__ entries listed on the Beautiful Soup webpage\n",
    "    - hint: it is the only unordered list in the page (tag `ul`)\n"
   ]
  },
  {
   "cell_type": "code",
   "execution_count": 100,
   "metadata": {
    "collapsed": false,
    "slideshow": {
     "slide_type": "slide"
    }
   },
   "outputs": [
    {
     "data": {
      "text/plain": [
       "[<h3> Test </h3>]"
      ]
     },
     "execution_count": 100,
     "metadata": {},
     "output_type": "execute_result"
    }
   ],
   "source": [
    "## get h3 tag\n",
    "#EITHER\n",
    "body.contents[0]\n",
    "#OR\n",
    "tree.findAll('h3')"
   ]
  },
  {
   "cell_type": "code",
   "execution_count": 103,
   "metadata": {
    "collapsed": false,
    "slideshow": {
     "slide_type": "slide"
    }
   },
   "outputs": [
    {
     "name": "stdout",
     "output_type": "stream",
     "text": [
      "[[<a href=\"http://www.nytimes.com/2007/10/25/arts/design/25vide.html\">\"Movable\\n Type\"</a>, u', a work of digital art on display in the lobby of the New\\n York Times building, uses Beautiful Soup to scrape news feeds.\\n\\n'], [u'Reddit uses Beautiful Soup to ', <a href=\"https://github.com/reddit/reddit/blob/85f9cff3e2ab9bb8f19b96acd8da4ebacc079f04/r2/r2/lib/media.py\">parse\\na page that's been linked to and find a representative image</a>, u'.\\n\\n'], [u'Alexander Harrowell uses Beautiful Soup to ', <a href=\"http://www.harrowell.org.uk/viktormap.html\">track the business\\n activities</a>, u' of an arms merchant.\\n\\n'], [u'The developers of Python itself used Beautiful Soup to ', <a href=\"http://svn.python.org/view/tracker/importer/\">migrate the Python\\nbug tracker from Sourceforge to Roundup</a>, u'.\\n\\n'], [u'The ', <a href=\"http://www2.ljworld.com/\">Lawrence Journal-World</a>, u'\\nuses Beautiful Soup to ', <a href=\"http://www.b-list.org/weblog/2010/nov/02/news-done-broke/\">gather\\nstatewide election results</a>, u'.\\n\\n'], [u'The ', <a href=\"http://esrl.noaa.gov/gsd/fab/\">NOAA's Forecast\\nApplications Branch</a>, u' uses Beautiful Soup in ', <a href=\"http://laps.noaa.gov/topograbber/\">TopoGrabber</a>, u', a script for\\ndownloading \"high resolution USGS datasets.\"\\n\\n']]\n"
     ]
    }
   ],
   "source": [
    "## use ul as entry point\n",
    "entry_point = soup.find('ul')\n",
    "\n",
    "## get hall of fame list from entry point\n",
    "## skip the first entry \n",
    "hall_of_fame_list = entry_point.contents[1:]\n",
    "\n",
    "## reformat into a list containing strings\n",
    "tmp = []\n",
    "for li in hall_of_fame_list:\n",
    "    tmp.append(li.contents)\n",
    "    \n",
    "print tmp"
   ]
  },
  {
   "cell_type": "markdown",
   "metadata": {
    "slideshow": {
     "slide_type": "slide"
    }
   },
   "source": [
    "`tmp` now is actually a list of lists containing the hall of fame entries. \n",
    "Here is some advanced Python on how to print really just one entry per list item.\n",
    "\n",
    "The cool things about this are: \n",
    "* The use of `\"\"` to just access the `join` function of strings. \n",
    "* The `join` function itself. THIS APPEARS TO REMOVE THE NEW LINES, SINCE EACH LINE IS AN ELEMENT OF THE SUBLIST STRING\n",
    "* that you can actually have two nested for loops in a list comprehension. WHEN YOU DO STR(A) FOR A IN SUBLIST, YOU ARE TAKING EACH BS ELEMENT FROM THE LIST, CONVERTING IT TO STRING WHICH SEPARATES THEM BY NEWLINE, AND THEN JOINING THEM WITH NO SPACES. THEN DOING THIS OVER ALL LISTS"
   ]
  },
  {
   "cell_type": "code",
   "execution_count": 129,
   "metadata": {
    "collapsed": false
   },
   "outputs": [
    {
     "name": "stdout",
     "output_type": "stream",
     "text": [
      "<a href=\"http://www.nytimes.com/2007/10/25/arts/design/25vide.html\">\"Movable\n",
      " Type\"</a>SDGAHAS, a work of digital art on display in the lobby of the New\n",
      " York Times building, uses Beautiful Soup to scrape news feeds.\n",
      "\n",
      "\n",
      "Reddit uses Beautiful Soup to SDGAHAS<a href=\"https://github.com/reddit/reddit/blob/85f9cff3e2ab9bb8f19b96acd8da4ebacc079f04/r2/r2/lib/media.py\">parse\n",
      "a page that's been linked to and find a representative image</a>SDGAHAS.\n",
      "\n",
      "\n",
      "Alexander Harrowell uses Beautiful Soup to SDGAHAS<a href=\"http://www.harrowell.org.uk/viktormap.html\">track the business\n",
      " activities</a>SDGAHAS of an arms merchant.\n",
      "\n",
      "\n",
      "The developers of Python itself used Beautiful Soup to SDGAHAS<a href=\"http://svn.python.org/view/tracker/importer/\">migrate the Python\n",
      "bug tracker from Sourceforge to Roundup</a>SDGAHAS.\n",
      "\n",
      "\n",
      "The SDGAHAS<a href=\"http://www2.ljworld.com/\">Lawrence Journal-World</a>SDGAHAS\n",
      "uses Beautiful Soup to SDGAHAS<a href=\"http://www.b-list.org/weblog/2010/nov/02/news-done-broke/\">gather\n",
      "statewide election results</a>SDGAHAS.\n",
      "\n",
      "\n",
      "The SDGAHAS<a href=\"http://esrl.noaa.gov/gsd/fab/\">NOAA's Forecast\n",
      "Applications Branch</a>SDGAHAS uses Beautiful Soup in SDGAHAS<a href=\"http://laps.noaa.gov/topograbber/\">TopoGrabber</a>SDGAHAS, a script for\n",
      "downloading \"high resolution USGS datasets.\"\n",
      "\n",
      "\n"
     ]
    }
   ],
   "source": [
    "tmp2 = tmp;\n",
    "test2 = '\\n'.join([\"SDGAHAS\".join(str(a) for a in sublist) for sublist in tmp2])\n",
    "print (test2)"
   ]
  },
  {
   "cell_type": "code",
   "execution_count": 123,
   "metadata": {
    "collapsed": false,
    "slideshow": {
     "slide_type": "-"
    }
   },
   "outputs": [
    {
     "name": "stdout",
     "output_type": "stream",
     "text": [
      "<a href=\"http://www.nytimes.com/2007/10/25/arts/design/25vide.html\">\"Movable\n",
      " Type\"</a>, a work of digital art on display in the lobby of the New\n",
      " York Times building, uses Beautiful Soup to scrape news feeds.\n",
      "\n",
      "\n",
      "Reddit uses Beautiful Soup to <a href=\"https://github.com/reddit/reddit/blob/85f9cff3e2ab9bb8f19b96acd8da4ebacc079f04/r2/r2/lib/media.py\">parse\n",
      "a page that's been linked to and find a representative image</a>.\n",
      "\n",
      "\n",
      "Alexander Harrowell uses Beautiful Soup to <a href=\"http://www.harrowell.org.uk/viktormap.html\">track the business\n",
      " activities</a> of an arms merchant.\n",
      "\n",
      "\n",
      "The developers of Python itself used Beautiful Soup to <a href=\"http://svn.python.org/view/tracker/importer/\">migrate the Python\n",
      "bug tracker from Sourceforge to Roundup</a>.\n",
      "\n",
      "\n",
      "The <a href=\"http://www2.ljworld.com/\">Lawrence Journal-World</a>\n",
      "uses Beautiful Soup to <a href=\"http://www.b-list.org/weblog/2010/nov/02/news-done-broke/\">gather\n",
      "statewide election results</a>.\n",
      "\n",
      "\n",
      "The <a href=\"http://esrl.noaa.gov/gsd/fab/\">NOAA's Forecast\n",
      "Applications Branch</a> uses Beautiful Soup in <a href=\"http://laps.noaa.gov/topograbber/\">TopoGrabber</a>, a script for\n",
      "downloading \"high resolution USGS datasets.\"\n",
      "\n",
      "\n"
     ]
    }
   ],
   "source": [
    "test =  [\"\".join(str(a) for a in sublist) for sublist in tmp]\n",
    "print '\\n'.join(test)"
   ]
  },
  {
   "cell_type": "markdown",
   "metadata": {
    "slideshow": {
     "slide_type": "slide"
    }
   },
   "source": [
    "Advanced Example\n",
    "===============\n",
    "\n",
    "Idea by [Jesse Steinweg-Woods](https://jessesw.com/Data-Science-Skills/)\n",
    "--------------------------------------------------------------------------------"
   ]
  },
  {
   "cell_type": "markdown",
   "metadata": {
    "slideshow": {
     "slide_type": "slide"
    }
   },
   "source": [
    "Scraping data science skills\n",
    "=============================\n",
    "\n",
    "- What skills are in demand for data scientists?\n",
    "- Should we have a lecture on Spark or only on MapReduce?\n",
    "\n",
    "We want to scrape the information from job advertisements for data scientists from indeed.com\n",
    "Let's scrape and find out!"
   ]
  },
  {
   "cell_type": "code",
   "execution_count": 130,
   "metadata": {
    "collapsed": true,
    "slideshow": {
     "slide_type": "slide"
    }
   },
   "outputs": [],
   "source": [
    "# Fixed url for job postings containing data scientist\n",
    "url = 'http://www.indeed.com/jobs?q=data+scientist&l='\n",
    "# read the website\n",
    "source = urllib2.urlopen(url).read()\n",
    "# parse html code\n",
    "bs_tree = bs4.BeautifulSoup(source)"
   ]
  },
  {
   "cell_type": "code",
   "execution_count": 151,
   "metadata": {
    "collapsed": false
   },
   "outputs": [
    {
     "name": "stdout",
     "output_type": "stream",
     "text": [
      "Jobs 1 to 10 of 21,482\n",
      "[u'Jobs', u'1', u'to', u'10', u'of', u'21,482']\n",
      "21,482\n",
      "<type 'list'>\n",
      "21482\n"
     ]
    }
   ],
   "source": [
    "job_count_string = bs_tree.find(id = 'searchCount').contents[0]\n",
    "print job_count_string\n",
    "print job_count_string.split()\n",
    "print job_count_string.split()[-1]\n",
    "print type(job_count_string.split())\n",
    "jc = job_count_string.split()[-1]\n",
    "jc = jc.replace(\",\", \"\")\n",
    "jc = int(jc)\n",
    "print jc"
   ]
  },
  {
   "cell_type": "code",
   "execution_count": 156,
   "metadata": {
    "collapsed": false,
    "slideshow": {
     "slide_type": "slide"
    }
   },
   "outputs": [
    {
     "name": "stdout",
     "output_type": "stream",
     "text": [
      "Search yielded 21,482 hits.\n",
      "21483\n"
     ]
    }
   ],
   "source": [
    "# see how many job postings we found\n",
    "job_count_string = bs_tree.find(id = 'searchCount').contents[0]\n",
    "job_count_string = job_count_string.split()[-1]\n",
    "print(\"Search yielded %s hits.\" % (job_count_string))\n",
    "\n",
    "# note that job_count so far is still a string, \n",
    "# not an integer, and the , separator prevents \n",
    "# us from just casting it to int\n",
    "\n",
    "#job_count_digits = [int(d) for d in job_count_string if d.isdigit()]\n",
    "#job_count = np.sum([digit*(10**exponent) for digit, exponent in \n",
    "         #           zip(job_count_digits[::-1], range(len(job_count_digits)))])\n",
    "    \n",
    "#A much simpler way\n",
    "job_count_string = job_count_string.replace(\",\", \"\")\n",
    "job_count = int(job_count_string)\n",
    "print job_count+1"
   ]
  },
  {
   "cell_type": "code",
   "execution_count": 157,
   "metadata": {
    "collapsed": false,
    "slideshow": {
     "slide_type": "slide"
    }
   },
   "outputs": [
    {
     "name": "stdout",
     "output_type": "stream",
     "text": [
      "2149\n",
      "2139\n",
      "We found a lot of jobs:  240\n"
     ]
    }
   ],
   "source": [
    "# The website is only listing 10 results per page, \n",
    "# so we need to scrape them page after page\n",
    "num_pages = int(np.ceil(job_count/10.0))\n",
    "\n",
    "base_url = 'http://www.indeed.com'\n",
    "job_links = []\n",
    "for i in range(20): #do range(num_pages) if you want them all\n",
    "    if i%10==0:\n",
    "        print num_pages-i\n",
    "    url = 'http://www.indeed.com/jobs?q=data+scientist&start=' + str(i*10)\n",
    "    html_page = urllib2.urlopen(url).read() \n",
    "    bs_tree = bs4.BeautifulSoup(html_page)\n",
    "    job_link_area = bs_tree.find(id = 'resultsCol')\n",
    "    job_postings = job_link_area.findAll(\"div\")\n",
    "    job_postings = [jp for jp in job_postings if not jp.get('class') is None \n",
    "                    and ''.join(jp.get('class')) ==\"rowresult\"]\n",
    "    job_ids = [jp.get('data-jk') for jp in job_postings]\n",
    "    \n",
    "    # go after each link\n",
    "    for id in job_ids:\n",
    "        job_links.append(base_url + '/rc/clk?jk=' + id)\n",
    "\n",
    "    time.sleep(1)\n",
    "\n",
    "print \"We found a lot of jobs: \", len(job_links)"
   ]
  },
  {
   "cell_type": "code",
   "execution_count": 158,
   "metadata": {
    "collapsed": false
   },
   "outputs": [
    {
     "data": {
      "text/plain": [
       "['http://www.indeed.com/rc/clk?jk=584d81f6f20f5739',\n",
       " 'http://www.indeed.com/rc/clk?jk=805e18fb46de32d2',\n",
       " 'http://www.indeed.com/rc/clk?jk=bf433382d479e7e0',\n",
       " 'http://www.indeed.com/rc/clk?jk=56de3605b098f84b',\n",
       " 'http://www.indeed.com/rc/clk?jk=9a8d23152475c3bd',\n",
       " 'http://www.indeed.com/rc/clk?jk=3545762172cce5df',\n",
       " 'http://www.indeed.com/rc/clk?jk=da5d1723ed5021c7',\n",
       " 'http://www.indeed.com/rc/clk?jk=155a72f0b131d487',\n",
       " 'http://www.indeed.com/rc/clk?jk=0985b7a7afbd9932',\n",
       " 'http://www.indeed.com/rc/clk?jk=562b7199daf79b7d',\n",
       " 'http://www.indeed.com/rc/clk?jk=984861ff989b462d',\n",
       " 'http://www.indeed.com/rc/clk?jk=7385576c5657dea3',\n",
       " 'http://www.indeed.com/rc/clk?jk=d1077bdcc2c28f6c',\n",
       " 'http://www.indeed.com/rc/clk?jk=d905d2c232c71c3d',\n",
       " 'http://www.indeed.com/rc/clk?jk=8c89b3daa8fb8dc0',\n",
       " 'http://www.indeed.com/rc/clk?jk=528f7582c5797ff4',\n",
       " 'http://www.indeed.com/rc/clk?jk=7f2f673a2aac7146',\n",
       " 'http://www.indeed.com/rc/clk?jk=09f4c5cc97431ad8',\n",
       " 'http://www.indeed.com/rc/clk?jk=b6115346d37d660d',\n",
       " 'http://www.indeed.com/rc/clk?jk=3c8067380ab5db40',\n",
       " 'http://www.indeed.com/rc/clk?jk=5444b852553f6429',\n",
       " 'http://www.indeed.com/rc/clk?jk=878ae04a453a3568',\n",
       " 'http://www.indeed.com/rc/clk?jk=2c1fc2c83b35db10',\n",
       " 'http://www.indeed.com/rc/clk?jk=4c07816362b6b6d6',\n",
       " 'http://www.indeed.com/rc/clk?jk=ff0adb6921351b39',\n",
       " 'http://www.indeed.com/rc/clk?jk=878ae04a453a3568',\n",
       " 'http://www.indeed.com/rc/clk?jk=456f9c10ced10376',\n",
       " 'http://www.indeed.com/rc/clk?jk=aa638b1edc784376',\n",
       " 'http://www.indeed.com/rc/clk?jk=389ee2e7c36467d2',\n",
       " 'http://www.indeed.com/rc/clk?jk=82c86425cc7d2f0d',\n",
       " 'http://www.indeed.com/rc/clk?jk=fc1cdd0774a6a76f',\n",
       " 'http://www.indeed.com/rc/clk?jk=3a19ca05a5944ddc',\n",
       " 'http://www.indeed.com/rc/clk?jk=39040cef7e804147',\n",
       " 'http://www.indeed.com/rc/clk?jk=a5341affa1211d07',\n",
       " 'http://www.indeed.com/rc/clk?jk=499741656f309528',\n",
       " 'http://www.indeed.com/rc/clk?jk=363c57774bba710d',\n",
       " 'http://www.indeed.com/rc/clk?jk=d05e741bfb0c6e01',\n",
       " 'http://www.indeed.com/rc/clk?jk=1b2f112b80505150',\n",
       " 'http://www.indeed.com/rc/clk?jk=16fe9ecf6d46cd71',\n",
       " 'http://www.indeed.com/rc/clk?jk=49dc67a606bc269c',\n",
       " 'http://www.indeed.com/rc/clk?jk=24bc9c82f8612c77',\n",
       " 'http://www.indeed.com/rc/clk?jk=e12d5e41b7dd2497',\n",
       " 'http://www.indeed.com/rc/clk?jk=b02d55aa619aee16',\n",
       " 'http://www.indeed.com/rc/clk?jk=8b8026e0e847ad4c',\n",
       " 'http://www.indeed.com/rc/clk?jk=738d4354bb8b3b0b',\n",
       " 'http://www.indeed.com/rc/clk?jk=dde8ca6a7d26229e',\n",
       " 'http://www.indeed.com/rc/clk?jk=1fe915123663c284',\n",
       " 'http://www.indeed.com/rc/clk?jk=16079bf43a5834a1',\n",
       " 'http://www.indeed.com/rc/clk?jk=6c82dd7306bafb8a',\n",
       " 'http://www.indeed.com/rc/clk?jk=c6a23108800a1480',\n",
       " 'http://www.indeed.com/rc/clk?jk=caa05ca090b95dd8',\n",
       " 'http://www.indeed.com/rc/clk?jk=750d41e72e84369d',\n",
       " 'http://www.indeed.com/rc/clk?jk=50319b0bf944a7c7',\n",
       " 'http://www.indeed.com/rc/clk?jk=856072afca30eefe',\n",
       " 'http://www.indeed.com/rc/clk?jk=506fd2e32a012038',\n",
       " 'http://www.indeed.com/rc/clk?jk=5b67fb5d6c1dc648',\n",
       " 'http://www.indeed.com/rc/clk?jk=35f5d3b59f04eb56',\n",
       " 'http://www.indeed.com/rc/clk?jk=7ac0b58b260b1a19',\n",
       " 'http://www.indeed.com/rc/clk?jk=943ea2909060bd38',\n",
       " 'http://www.indeed.com/rc/clk?jk=15e4cc9dd66b6e56',\n",
       " 'http://www.indeed.com/rc/clk?jk=f50a479c1c984008',\n",
       " 'http://www.indeed.com/rc/clk?jk=064fc724ddce4fbe',\n",
       " 'http://www.indeed.com/rc/clk?jk=ef494c70b2481c77',\n",
       " 'http://www.indeed.com/rc/clk?jk=191bdaf1160d280a',\n",
       " 'http://www.indeed.com/rc/clk?jk=f8cb12e46b469b9e',\n",
       " 'http://www.indeed.com/rc/clk?jk=cfb559da79a0a421',\n",
       " 'http://www.indeed.com/rc/clk?jk=02ef037337c2de6c',\n",
       " 'http://www.indeed.com/rc/clk?jk=5b8a15098637251f',\n",
       " 'http://www.indeed.com/rc/clk?jk=25291ab13f000e22',\n",
       " 'http://www.indeed.com/rc/clk?jk=332fa710b073da1e',\n",
       " 'http://www.indeed.com/rc/clk?jk=1b618195491ee2ae',\n",
       " 'http://www.indeed.com/rc/clk?jk=fd7d05c92b09eb1d',\n",
       " 'http://www.indeed.com/rc/clk?jk=485a1c3ac09f64bd',\n",
       " 'http://www.indeed.com/rc/clk?jk=25291ab13f000e22',\n",
       " 'http://www.indeed.com/rc/clk?jk=332fa710b073da1e',\n",
       " 'http://www.indeed.com/rc/clk?jk=043071cc29c725eb',\n",
       " 'http://www.indeed.com/rc/clk?jk=194543909d5606ef',\n",
       " 'http://www.indeed.com/rc/clk?jk=1938fc4cf2d7af0c',\n",
       " 'http://www.indeed.com/rc/clk?jk=5f45c8d90aa18bb2',\n",
       " 'http://www.indeed.com/rc/clk?jk=ac2c49834316a07a',\n",
       " 'http://www.indeed.com/rc/clk?jk=0c5e32c5876570d7',\n",
       " 'http://www.indeed.com/rc/clk?jk=faa83d02c0cd7d71',\n",
       " 'http://www.indeed.com/rc/clk?jk=bef07e3f4d36e0f5',\n",
       " 'http://www.indeed.com/rc/clk?jk=89931089a21f0ee9',\n",
       " 'http://www.indeed.com/rc/clk?jk=02caa42fc634b4ee',\n",
       " 'http://www.indeed.com/rc/clk?jk=c1832c407c0c2de6',\n",
       " 'http://www.indeed.com/rc/clk?jk=2fac456026b4c1b9',\n",
       " 'http://www.indeed.com/rc/clk?jk=967a8bc5fa97bccb',\n",
       " 'http://www.indeed.com/rc/clk?jk=c028d2ade8eeccd2',\n",
       " 'http://www.indeed.com/rc/clk?jk=162f17321fba22aa',\n",
       " 'http://www.indeed.com/rc/clk?jk=bc0ac15f3e13d5f8',\n",
       " 'http://www.indeed.com/rc/clk?jk=1b77270a6338bc8d',\n",
       " 'http://www.indeed.com/rc/clk?jk=1f21339349e699f1',\n",
       " 'http://www.indeed.com/rc/clk?jk=5adf5e84fc038965',\n",
       " 'http://www.indeed.com/rc/clk?jk=2ba03226f8e08177',\n",
       " 'http://www.indeed.com/rc/clk?jk=bef07e3f4d36e0f5',\n",
       " 'http://www.indeed.com/rc/clk?jk=5594eaf03848ef9e',\n",
       " 'http://www.indeed.com/rc/clk?jk=91cbb4389fa88baa',\n",
       " 'http://www.indeed.com/rc/clk?jk=54fb9686afad69a6',\n",
       " 'http://www.indeed.com/rc/clk?jk=67366582046d5899',\n",
       " 'http://www.indeed.com/rc/clk?jk=5fac4d8984a147b7',\n",
       " 'http://www.indeed.com/rc/clk?jk=56ebec75b3f5b958',\n",
       " 'http://www.indeed.com/rc/clk?jk=19f75833e4fb569b',\n",
       " 'http://www.indeed.com/rc/clk?jk=dda65b2b4369d4c6',\n",
       " 'http://www.indeed.com/rc/clk?jk=3351eed940ae0001',\n",
       " 'http://www.indeed.com/rc/clk?jk=28f3276a19a07636',\n",
       " 'http://www.indeed.com/rc/clk?jk=664f8c74fef92644',\n",
       " 'http://www.indeed.com/rc/clk?jk=6a0076e804a28e50',\n",
       " 'http://www.indeed.com/rc/clk?jk=0c8c8d9899c43bd4',\n",
       " 'http://www.indeed.com/rc/clk?jk=3351eed940ae0001',\n",
       " 'http://www.indeed.com/rc/clk?jk=dda65b2b4369d4c6',\n",
       " 'http://www.indeed.com/rc/clk?jk=f0b9fc69e284cc76',\n",
       " 'http://www.indeed.com/rc/clk?jk=955656be2c9f6396',\n",
       " 'http://www.indeed.com/rc/clk?jk=8a7c5abc9cb95a43',\n",
       " 'http://www.indeed.com/rc/clk?jk=28f3276a19a07636',\n",
       " 'http://www.indeed.com/rc/clk?jk=6a2e24c187cd2299',\n",
       " 'http://www.indeed.com/rc/clk?jk=ae8663dba155f1b1',\n",
       " 'http://www.indeed.com/rc/clk?jk=24af9be079d1f7ed',\n",
       " 'http://www.indeed.com/rc/clk?jk=9f1dcbea3160eb66',\n",
       " 'http://www.indeed.com/rc/clk?jk=531f10d674f3ec5c',\n",
       " 'http://www.indeed.com/rc/clk?jk=8b06d38612be49fa',\n",
       " 'http://www.indeed.com/rc/clk?jk=d3cc6f7b38a6d378',\n",
       " 'http://www.indeed.com/rc/clk?jk=c969505dd7f3c457',\n",
       " 'http://www.indeed.com/rc/clk?jk=9f28346a5152e4fe',\n",
       " 'http://www.indeed.com/rc/clk?jk=4121a8a5ec79dbfc',\n",
       " 'http://www.indeed.com/rc/clk?jk=e6c2cc235c645ac2',\n",
       " 'http://www.indeed.com/rc/clk?jk=31aee2e40ccef182',\n",
       " 'http://www.indeed.com/rc/clk?jk=d248b410e2f870b3',\n",
       " 'http://www.indeed.com/rc/clk?jk=40266e53e0ceeaf0',\n",
       " 'http://www.indeed.com/rc/clk?jk=786ec75cf3134a7d',\n",
       " 'http://www.indeed.com/rc/clk?jk=64e599c2d31ca012',\n",
       " 'http://www.indeed.com/rc/clk?jk=597cf5f6300480c6',\n",
       " 'http://www.indeed.com/rc/clk?jk=4e62054895082f35',\n",
       " 'http://www.indeed.com/rc/clk?jk=67af14918ac2114f',\n",
       " 'http://www.indeed.com/rc/clk?jk=546174bdc7a77df1',\n",
       " 'http://www.indeed.com/rc/clk?jk=0089f4806bfcfd17',\n",
       " 'http://www.indeed.com/rc/clk?jk=77c25367bd28955d',\n",
       " 'http://www.indeed.com/rc/clk?jk=416a3d75529a1b75',\n",
       " 'http://www.indeed.com/rc/clk?jk=5b8a86036f76a88a',\n",
       " 'http://www.indeed.com/rc/clk?jk=106d4657fa6b0afa',\n",
       " 'http://www.indeed.com/rc/clk?jk=4378207c8d27963e',\n",
       " 'http://www.indeed.com/rc/clk?jk=833e29fa011b8a1c',\n",
       " 'http://www.indeed.com/rc/clk?jk=9c8092263ca1ffae',\n",
       " 'http://www.indeed.com/rc/clk?jk=9f0cc0eb3caeb631',\n",
       " 'http://www.indeed.com/rc/clk?jk=ae786459f94c6b68',\n",
       " 'http://www.indeed.com/rc/clk?jk=1953f5336fa47344',\n",
       " 'http://www.indeed.com/rc/clk?jk=b2a9a9b292c84bae',\n",
       " 'http://www.indeed.com/rc/clk?jk=86489240a6f6aa6c',\n",
       " 'http://www.indeed.com/rc/clk?jk=ccc998a38a02cc52',\n",
       " 'http://www.indeed.com/rc/clk?jk=e822a4c08b62597e',\n",
       " 'http://www.indeed.com/rc/clk?jk=f331821c9efb94b2',\n",
       " 'http://www.indeed.com/rc/clk?jk=e89159f01f7aefd6',\n",
       " 'http://www.indeed.com/rc/clk?jk=216ae49d6d9fcc5f',\n",
       " 'http://www.indeed.com/rc/clk?jk=efe581b434c1744e',\n",
       " 'http://www.indeed.com/rc/clk?jk=13d0eb73c6a0b915',\n",
       " 'http://www.indeed.com/rc/clk?jk=2a1bfcc2bf53b89a',\n",
       " 'http://www.indeed.com/rc/clk?jk=31b604a6a44f8141',\n",
       " 'http://www.indeed.com/rc/clk?jk=1102a25b4addb137',\n",
       " 'http://www.indeed.com/rc/clk?jk=62c240671e442338',\n",
       " 'http://www.indeed.com/rc/clk?jk=efe581b434c1744e',\n",
       " 'http://www.indeed.com/rc/clk?jk=3927d457032f8977',\n",
       " 'http://www.indeed.com/rc/clk?jk=93c4cc5047190aa7',\n",
       " 'http://www.indeed.com/rc/clk?jk=6234c891470d88b4',\n",
       " 'http://www.indeed.com/rc/clk?jk=e5d8dfb2685e4cc7',\n",
       " 'http://www.indeed.com/rc/clk?jk=5d4e9709af5f9748',\n",
       " 'http://www.indeed.com/rc/clk?jk=cecaae3a52d8d789',\n",
       " 'http://www.indeed.com/rc/clk?jk=e86ff3004edb5714',\n",
       " 'http://www.indeed.com/rc/clk?jk=8abd6b466ce48ca0',\n",
       " 'http://www.indeed.com/rc/clk?jk=e32ac9e015f91327',\n",
       " 'http://www.indeed.com/rc/clk?jk=be2f1059961095bb',\n",
       " 'http://www.indeed.com/rc/clk?jk=86489240a6f6aa6c',\n",
       " 'http://www.indeed.com/rc/clk?jk=f331821c9efb94b2',\n",
       " 'http://www.indeed.com/rc/clk?jk=216ae49d6d9fcc5f',\n",
       " 'http://www.indeed.com/rc/clk?jk=d0db7d09d38d8e45',\n",
       " 'http://www.indeed.com/rc/clk?jk=e822a4c08b62597e',\n",
       " 'http://www.indeed.com/rc/clk?jk=b4ce94548b6cd71c',\n",
       " 'http://www.indeed.com/rc/clk?jk=d8357e0227c5f1bf',\n",
       " 'http://www.indeed.com/rc/clk?jk=1102a25b4addb137',\n",
       " 'http://www.indeed.com/rc/clk?jk=37720a263105a469',\n",
       " 'http://www.indeed.com/rc/clk?jk=14f6883036f1594a',\n",
       " 'http://www.indeed.com/rc/clk?jk=d7d42d22e24fcd62',\n",
       " 'http://www.indeed.com/rc/clk?jk=3927d457032f8977',\n",
       " 'http://www.indeed.com/rc/clk?jk=31c354d00eb18711',\n",
       " 'http://www.indeed.com/rc/clk?jk=93c4cc5047190aa7',\n",
       " 'http://www.indeed.com/rc/clk?jk=e5d8dfb2685e4cc7',\n",
       " 'http://www.indeed.com/rc/clk?jk=5d4e9709af5f9748',\n",
       " 'http://www.indeed.com/rc/clk?jk=cecaae3a52d8d789',\n",
       " 'http://www.indeed.com/rc/clk?jk=b2a9a9b292c84bae',\n",
       " 'http://www.indeed.com/rc/clk?jk=de79cd3c3f3f63cb',\n",
       " 'http://www.indeed.com/rc/clk?jk=9ba5d60b823c4065',\n",
       " 'http://www.indeed.com/rc/clk?jk=bf2ae432ad84bac3',\n",
       " 'http://www.indeed.com/rc/clk?jk=abe39d88c23da9b2',\n",
       " 'http://www.indeed.com/rc/clk?jk=18b3c29ca076e607',\n",
       " 'http://www.indeed.com/rc/clk?jk=5f145be66c1793f2',\n",
       " 'http://www.indeed.com/rc/clk?jk=c08fb5a1fc12ed5c',\n",
       " 'http://www.indeed.com/rc/clk?jk=e89159f01f7aefd6',\n",
       " 'http://www.indeed.com/rc/clk?jk=3136ca93c765ae4f',\n",
       " 'http://www.indeed.com/rc/clk?jk=efe581b434c1744e',\n",
       " 'http://www.indeed.com/rc/clk?jk=6234c891470d88b4',\n",
       " 'http://www.indeed.com/rc/clk?jk=66f532481e9722cd',\n",
       " 'http://www.indeed.com/rc/clk?jk=18437dcdab1b1021',\n",
       " 'http://www.indeed.com/rc/clk?jk=58d428a25e1c86e5',\n",
       " 'http://www.indeed.com/rc/clk?jk=8db3a0291b94b370',\n",
       " 'http://www.indeed.com/rc/clk?jk=269035c4bf863c7f',\n",
       " 'http://www.indeed.com/rc/clk?jk=71f72c42b1b9c298',\n",
       " 'http://www.indeed.com/rc/clk?jk=11ce68b6e69d94f0',\n",
       " 'http://www.indeed.com/rc/clk?jk=8db3a0291b94b370',\n",
       " 'http://www.indeed.com/rc/clk?jk=2f0dbdd7136614ab',\n",
       " 'http://www.indeed.com/rc/clk?jk=81144315d5106299',\n",
       " 'http://www.indeed.com/rc/clk?jk=ccaa40b7d088e155',\n",
       " 'http://www.indeed.com/rc/clk?jk=1b26b6fef245f04e',\n",
       " 'http://www.indeed.com/rc/clk?jk=77bae4bc4a0d78ef',\n",
       " 'http://www.indeed.com/rc/clk?jk=d0e2dc3145076af6',\n",
       " 'http://www.indeed.com/rc/clk?jk=cde086027099b03b',\n",
       " 'http://www.indeed.com/rc/clk?jk=3b419b63ebc528b5',\n",
       " 'http://www.indeed.com/rc/clk?jk=7cdf27aa4af9e7ce',\n",
       " 'http://www.indeed.com/rc/clk?jk=cf5def960f7df987',\n",
       " 'http://www.indeed.com/rc/clk?jk=31241301cbbb3b93',\n",
       " 'http://www.indeed.com/rc/clk?jk=c26b966f27309cd5',\n",
       " 'http://www.indeed.com/rc/clk?jk=5dcc25778a0548be',\n",
       " 'http://www.indeed.com/rc/clk?jk=bf95393901576b63',\n",
       " 'http://www.indeed.com/rc/clk?jk=38d27d9a4865b61b',\n",
       " 'http://www.indeed.com/rc/clk?jk=ca5a2c136eaccc1d',\n",
       " 'http://www.indeed.com/rc/clk?jk=46c8f9f8725c01a0',\n",
       " 'http://www.indeed.com/rc/clk?jk=aa028fb7846ab26c',\n",
       " 'http://www.indeed.com/rc/clk?jk=ca90e1ca48a11f1a',\n",
       " 'http://www.indeed.com/rc/clk?jk=27ce4f84a49506e1',\n",
       " 'http://www.indeed.com/rc/clk?jk=56f799fa94308d95',\n",
       " 'http://www.indeed.com/rc/clk?jk=1f6108bc532f78ff',\n",
       " 'http://www.indeed.com/rc/clk?jk=f5c19cae5d81393c',\n",
       " 'http://www.indeed.com/rc/clk?jk=42ecfc95ba187ae5',\n",
       " 'http://www.indeed.com/rc/clk?jk=e85803883314d1ec',\n",
       " 'http://www.indeed.com/rc/clk?jk=3a660cec6ccca3d5',\n",
       " 'http://www.indeed.com/rc/clk?jk=a53c42ebf2d8b95b',\n",
       " 'http://www.indeed.com/rc/clk?jk=350da386730fd7e6',\n",
       " 'http://www.indeed.com/rc/clk?jk=65d677d161e45b56',\n",
       " 'http://www.indeed.com/rc/clk?jk=23467249db08612b',\n",
       " 'http://www.indeed.com/rc/clk?jk=a80662ae66e4e4fc',\n",
       " 'http://www.indeed.com/rc/clk?jk=1f167171d6b92712',\n",
       " 'http://www.indeed.com/rc/clk?jk=c5c2a933401c88fc']"
      ]
     },
     "execution_count": 158,
     "metadata": {},
     "output_type": "execute_result"
    }
   ],
   "source": [
    "job_links"
   ]
  },
  {
   "cell_type": "markdown",
   "metadata": {
    "slideshow": {
     "slide_type": "slide"
    }
   },
   "source": [
    "Some precautions to enable us to restart our search\n",
    "========================="
   ]
  },
  {
   "cell_type": "code",
   "execution_count": 161,
   "metadata": {
    "collapsed": false,
    "slideshow": {
     "slide_type": "-"
    }
   },
   "outputs": [
    {
     "data": {
      "text/plain": [
       "['http://www.indeed.com/rc/clk?jk=88c2d3973e33de7f',\n",
       " 'http://www.indeed.com/rc/clk?jk=582e8629fe5d885c',\n",
       " 'http://www.indeed.com/rc/clk?jk=57bd97fbbacb533d',\n",
       " 'http://www.indeed.com/rc/clk?jk=a9d9bc9e73f70dd9',\n",
       " 'http://www.indeed.com/rc/clk?jk=b3e4d723f0d4df89',\n",
       " 'http://www.indeed.com/rc/clk?jk=c8dbf6b02133bf91',\n",
       " 'http://www.indeed.com/rc/clk?jk=8f5ea0c91c9205c5',\n",
       " 'http://www.indeed.com/rc/clk?jk=013053fb21ac6553',\n",
       " 'http://www.indeed.com/rc/clk?jk=bb87c86c52d21e5d',\n",
       " 'http://www.indeed.com/rc/clk?jk=4e549a1d923a1577',\n",
       " 'http://www.indeed.com/rc/clk?jk=e23f0d8a66471090',\n",
       " 'http://www.indeed.com/rc/clk?jk=fa6b15591ca92311',\n",
       " 'http://www.indeed.com/rc/clk?jk=d2c15b7269044f13',\n",
       " 'http://www.indeed.com/rc/clk?jk=379f82a8af17c560',\n",
       " 'http://www.indeed.com/rc/clk?jk=e9445b57934d24b0',\n",
       " 'http://www.indeed.com/rc/clk?jk=0720238e84af1d95',\n",
       " 'http://www.indeed.com/rc/clk?jk=9307bc98b5473131',\n",
       " 'http://www.indeed.com/rc/clk?jk=c5ede3bd394b2214',\n",
       " 'http://www.indeed.com/rc/clk?jk=6e9e5c173e8de039',\n",
       " 'http://www.indeed.com/rc/clk?jk=94e7569671f5e794',\n",
       " 'http://www.indeed.com/rc/clk?jk=b6e61dc26001af8f',\n",
       " 'http://www.indeed.com/rc/clk?jk=acb3a2b4543852c6',\n",
       " 'http://www.indeed.com/rc/clk?jk=f33813cd6635499a',\n",
       " 'http://www.indeed.com/rc/clk?jk=09a99ac1b36ecbb2',\n",
       " 'http://www.indeed.com/rc/clk?jk=c265aa6695994e3d',\n",
       " 'http://www.indeed.com/rc/clk?jk=7d6878c547d31c4b',\n",
       " 'http://www.indeed.com/rc/clk?jk=20bd58c17c5c952a',\n",
       " 'http://www.indeed.com/rc/clk?jk=73c221c9def8d2af',\n",
       " 'http://www.indeed.com/rc/clk?jk=a6d204eec6ee2190',\n",
       " 'http://www.indeed.com/rc/clk?jk=cc70cc6d96849a6e',\n",
       " 'http://www.indeed.com/rc/clk?jk=5061040a36caa0e8',\n",
       " 'http://www.indeed.com/rc/clk?jk=67e65ee331a48c9f',\n",
       " 'http://www.indeed.com/rc/clk?jk=d13bdf060c2431d0',\n",
       " 'http://www.indeed.com/rc/clk?jk=fa7114e14f1a2570',\n",
       " 'http://www.indeed.com/rc/clk?jk=237a55d74ab58553',\n",
       " 'http://www.indeed.com/rc/clk?jk=936fb8ea0311ea89',\n",
       " 'http://www.indeed.com/rc/clk?jk=7f3391c47c0d16b8',\n",
       " 'http://www.indeed.com/rc/clk?jk=597d3dde19c74da2',\n",
       " 'http://www.indeed.com/rc/clk?jk=a750bf86f5bed3bd',\n",
       " 'http://www.indeed.com/rc/clk?jk=eaa32a76732fcc43',\n",
       " 'http://www.indeed.com/rc/clk?jk=be82874e69063a2c',\n",
       " 'http://www.indeed.com/rc/clk?jk=1948df27c8f410f1',\n",
       " 'http://www.indeed.com/rc/clk?jk=9ab4562fbab237a5',\n",
       " 'http://www.indeed.com/rc/clk?jk=c742c30952c55dc2',\n",
       " 'http://www.indeed.com/rc/clk?jk=37a09903ceaffe72',\n",
       " 'http://www.indeed.com/rc/clk?jk=166206137ebc9a28',\n",
       " 'http://www.indeed.com/rc/clk?jk=7de7f75da4829d4c',\n",
       " 'http://www.indeed.com/rc/clk?jk=c8584d0152ed6e05',\n",
       " 'http://www.indeed.com/rc/clk?jk=c1c9d58399ed00cd',\n",
       " 'http://www.indeed.com/rc/clk?jk=4d8ede96bbfe2243',\n",
       " 'http://www.indeed.com/rc/clk?jk=27d0a95152c3c422',\n",
       " 'http://www.indeed.com/rc/clk?jk=e0a714fb64031fa5',\n",
       " 'http://www.indeed.com/rc/clk?jk=0dacb00a58d57cad',\n",
       " 'http://www.indeed.com/rc/clk?jk=2b4bca4e77b7d9f2',\n",
       " 'http://www.indeed.com/rc/clk?jk=4b62f555337f2dbd',\n",
       " 'http://www.indeed.com/rc/clk?jk=597ce3e809b4329f',\n",
       " 'http://www.indeed.com/rc/clk?jk=8b394088694574c8',\n",
       " 'http://www.indeed.com/rc/clk?jk=be36a60c670bfb6a',\n",
       " 'http://www.indeed.com/rc/clk?jk=3e44a241a69bb0c5',\n",
       " 'http://www.indeed.com/rc/clk?jk=2b36c3436e979f79',\n",
       " 'http://www.indeed.com/rc/clk?jk=35b95a33a5333009',\n",
       " 'http://www.indeed.com/rc/clk?jk=97e9711566e35890',\n",
       " 'http://www.indeed.com/rc/clk?jk=faf9df4c874b80ea',\n",
       " 'http://www.indeed.com/rc/clk?jk=b39b4525cad09271',\n",
       " 'http://www.indeed.com/rc/clk?jk=1213dc44fb0d9456',\n",
       " 'http://www.indeed.com/rc/clk?jk=ceafa30de23efe8f',\n",
       " 'http://www.indeed.com/rc/clk?jk=f9ca73ce3d0ffe9d',\n",
       " 'http://www.indeed.com/rc/clk?jk=42358ac9776f5f94',\n",
       " 'http://www.indeed.com/rc/clk?jk=e3d62a7070812533',\n",
       " 'http://www.indeed.com/rc/clk?jk=ef8716106b0e4e74',\n",
       " 'http://www.indeed.com/rc/clk?jk=eda694d09d74606c',\n",
       " 'http://www.indeed.com/rc/clk?jk=f553064ce9049869',\n",
       " 'http://www.indeed.com/rc/clk?jk=356b8b2f4034b0b5',\n",
       " 'http://www.indeed.com/rc/clk?jk=ac593319318236e9',\n",
       " 'http://www.indeed.com/rc/clk?jk=5f6dce4e0bd52e2d',\n",
       " 'http://www.indeed.com/rc/clk?jk=88e9d6fb58bc3e76',\n",
       " 'http://www.indeed.com/rc/clk?jk=031c3382b2f1da4f',\n",
       " 'http://www.indeed.com/rc/clk?jk=b7ee5b4145c3e9e4',\n",
       " 'http://www.indeed.com/rc/clk?jk=ac90d87ec49186b1',\n",
       " 'http://www.indeed.com/rc/clk?jk=e0d6e4482cb05e6a',\n",
       " 'http://www.indeed.com/rc/clk?jk=687e50236dc2ebae',\n",
       " 'http://www.indeed.com/rc/clk?jk=3d92a8fd80ce747b',\n",
       " 'http://www.indeed.com/rc/clk?jk=35b95a33a5333009',\n",
       " 'http://www.indeed.com/rc/clk?jk=062962dc54c524a3',\n",
       " 'http://www.indeed.com/rc/clk?jk=6dee0fc014e48229',\n",
       " 'http://www.indeed.com/rc/clk?jk=d32e68a8a0d4140a',\n",
       " 'http://www.indeed.com/rc/clk?jk=195008f5595ca51d',\n",
       " 'http://www.indeed.com/rc/clk?jk=f5f15389b8f78894',\n",
       " 'http://www.indeed.com/rc/clk?jk=271a4537bc9c44f2',\n",
       " 'http://www.indeed.com/rc/clk?jk=94513a313cb70df6',\n",
       " 'http://www.indeed.com/rc/clk?jk=d8c9e2e114da4f3c',\n",
       " 'http://www.indeed.com/rc/clk?jk=2dd53fc12601900b',\n",
       " 'http://www.indeed.com/rc/clk?jk=7087d99dea609cf7',\n",
       " 'http://www.indeed.com/rc/clk?jk=25d6e1004f5836e8',\n",
       " 'http://www.indeed.com/rc/clk?jk=70460f99e80e7e5c',\n",
       " 'http://www.indeed.com/rc/clk?jk=37fec5f3dc9d36ce',\n",
       " 'http://www.indeed.com/rc/clk?jk=40f28e6ad7539d1d',\n",
       " 'http://www.indeed.com/rc/clk?jk=e0c02ba1b8127568',\n",
       " 'http://www.indeed.com/rc/clk?jk=d23a9b9c9f302d2d',\n",
       " 'http://www.indeed.com/rc/clk?jk=639f684bc9e0cded',\n",
       " 'http://www.indeed.com/rc/clk?jk=852bd4baff0fa1fb',\n",
       " 'http://www.indeed.com/rc/clk?jk=0cfa8f5dc2ae3557',\n",
       " 'http://www.indeed.com/rc/clk?jk=1b4023d47b4bf733',\n",
       " 'http://www.indeed.com/rc/clk?jk=bcaf611d5746b2b2',\n",
       " 'http://www.indeed.com/rc/clk?jk=3d9be0b1d1835bee',\n",
       " 'http://www.indeed.com/rc/clk?jk=2004e5aa896942e4',\n",
       " 'http://www.indeed.com/rc/clk?jk=52017d1aa9050098',\n",
       " 'http://www.indeed.com/rc/clk?jk=854e83970569a270',\n",
       " 'http://www.indeed.com/rc/clk?jk=d0904bceb18d1b6d',\n",
       " 'http://www.indeed.com/rc/clk?jk=97e9711566e35890',\n",
       " 'http://www.indeed.com/rc/clk?jk=6b40f32592eb349b',\n",
       " 'http://www.indeed.com/rc/clk?jk=5acb386c887dd493',\n",
       " 'http://www.indeed.com/rc/clk?jk=defffefe6adb7903',\n",
       " 'http://www.indeed.com/rc/clk?jk=3d6e7e5990128d5f',\n",
       " 'http://www.indeed.com/rc/clk?jk=a3733362cbde1668',\n",
       " 'http://www.indeed.com/rc/clk?jk=077588e0b5373b93',\n",
       " 'http://www.indeed.com/rc/clk?jk=219776fa15c56aa5',\n",
       " 'http://www.indeed.com/rc/clk?jk=80697b02b345f4e4',\n",
       " 'http://www.indeed.com/rc/clk?jk=bc517d8245dc3504',\n",
       " 'http://www.indeed.com/rc/clk?jk=2ec0b2ed59832008',\n",
       " 'http://www.indeed.com/rc/clk?jk=ad0992a3e6daeec1',\n",
       " 'http://www.indeed.com/rc/clk?jk=ae5955f5bacb0d36',\n",
       " 'http://www.indeed.com/rc/clk?jk=4d867f93b6646c98',\n",
       " 'http://www.indeed.com/rc/clk?jk=7c0211aefcaa95a5',\n",
       " 'http://www.indeed.com/rc/clk?jk=405eaa80e41e5cc8',\n",
       " 'http://www.indeed.com/rc/clk?jk=5911758ba6b5bc1e',\n",
       " 'http://www.indeed.com/rc/clk?jk=7eff80f20aef5a9f',\n",
       " 'http://www.indeed.com/rc/clk?jk=f90a19996408d31c',\n",
       " 'http://www.indeed.com/rc/clk?jk=6c70674abc60fb8e',\n",
       " 'http://www.indeed.com/rc/clk?jk=f93d891ad5ca1770',\n",
       " 'http://www.indeed.com/rc/clk?jk=ab7d9a8786f2dfbc',\n",
       " 'http://www.indeed.com/rc/clk?jk=f6bcbd9fc35723d1',\n",
       " 'http://www.indeed.com/rc/clk?jk=5f5fafe4d5e1ff8a',\n",
       " 'http://www.indeed.com/rc/clk?jk=c2cee80b2e5cc6cb',\n",
       " 'http://www.indeed.com/rc/clk?jk=384fd3175969f095',\n",
       " 'http://www.indeed.com/rc/clk?jk=5200682472a64e4c',\n",
       " 'http://www.indeed.com/rc/clk?jk=d65e2b86e9dfd1e4',\n",
       " 'http://www.indeed.com/rc/clk?jk=041727a6b3a646ec',\n",
       " 'http://www.indeed.com/rc/clk?jk=722db748456c06cb',\n",
       " 'http://www.indeed.com/rc/clk?jk=e0d5a163e0a54393',\n",
       " 'http://www.indeed.com/rc/clk?jk=9f9229fd9717e292',\n",
       " 'http://www.indeed.com/rc/clk?jk=e2cc8854bc1072ea',\n",
       " 'http://www.indeed.com/rc/clk?jk=1637ca36096655be',\n",
       " 'http://www.indeed.com/rc/clk?jk=2463d08bc874465b',\n",
       " 'http://www.indeed.com/rc/clk?jk=71a538fb85a7aaff',\n",
       " 'http://www.indeed.com/rc/clk?jk=0dd8c4260894cf6c',\n",
       " 'http://www.indeed.com/rc/clk?jk=c09b91b2fb1f2477',\n",
       " 'http://www.indeed.com/rc/clk?jk=43d2825ac835e8c8',\n",
       " 'http://www.indeed.com/rc/clk?jk=1504de77a0d6ff16',\n",
       " 'http://www.indeed.com/rc/clk?jk=eedb00e5c8a0db7b',\n",
       " 'http://www.indeed.com/rc/clk?jk=cafe4e5cf33609f2',\n",
       " 'http://www.indeed.com/rc/clk?jk=6c301ba609c994ed',\n",
       " 'http://www.indeed.com/rc/clk?jk=fdddab96eab659b0',\n",
       " 'http://www.indeed.com/rc/clk?jk=3e445b4fed9402ad',\n",
       " 'http://www.indeed.com/rc/clk?jk=7a738634946bc1c4',\n",
       " 'http://www.indeed.com/rc/clk?jk=9bcf36d97fb8c7e6',\n",
       " 'http://www.indeed.com/rc/clk?jk=1636d769986ecf81',\n",
       " 'http://www.indeed.com/rc/clk?jk=6753229e67fb7b72',\n",
       " 'http://www.indeed.com/rc/clk?jk=52925674830b253b',\n",
       " 'http://www.indeed.com/rc/clk?jk=a76c7d3e692f3506',\n",
       " 'http://www.indeed.com/rc/clk?jk=e0f7801daacfac29',\n",
       " 'http://www.indeed.com/rc/clk?jk=07c00e847c596b71',\n",
       " 'http://www.indeed.com/rc/clk?jk=70821f6e0767fa39',\n",
       " 'http://www.indeed.com/rc/clk?jk=49074ed15b126021',\n",
       " 'http://www.indeed.com/rc/clk?jk=a63bdb56d51b9547',\n",
       " 'http://www.indeed.com/rc/clk?jk=c194d76a1f906152',\n",
       " 'http://www.indeed.com/rc/clk?jk=fbf2934b3b2dc290',\n",
       " 'http://www.indeed.com/rc/clk?jk=cc65f08be605439a',\n",
       " 'http://www.indeed.com/rc/clk?jk=bd86a7b1c19b7f91',\n",
       " 'http://www.indeed.com/rc/clk?jk=b5cba0b7047a37c7',\n",
       " 'http://www.indeed.com/rc/clk?jk=05e12912c284e9ee',\n",
       " 'http://www.indeed.com/rc/clk?jk=d579b509725624eb',\n",
       " 'http://www.indeed.com/rc/clk?jk=878cd21fb85395f6',\n",
       " 'http://www.indeed.com/rc/clk?jk=c84c9bf936d8c4d6',\n",
       " 'http://www.indeed.com/rc/clk?jk=9ef98dd03f4094cb',\n",
       " 'http://www.indeed.com/rc/clk?jk=a154a50d6c31df90',\n",
       " 'http://www.indeed.com/rc/clk?jk=23dfa3613af22a4a',\n",
       " 'http://www.indeed.com/rc/clk?jk=96a7c5d74800bebe',\n",
       " 'http://www.indeed.com/rc/clk?jk=019f52fe3a06f5d0',\n",
       " 'http://www.indeed.com/rc/clk?jk=27657b76fca5c259',\n",
       " 'http://www.indeed.com/rc/clk?jk=27c93d5c96117ccf',\n",
       " 'http://www.indeed.com/rc/clk?jk=1d0708a2281dca76',\n",
       " 'http://www.indeed.com/rc/clk?jk=df5ce91badb7fc1c',\n",
       " 'http://www.indeed.com/rc/clk?jk=59a1fa928b36d50d',\n",
       " 'http://www.indeed.com/rc/clk?jk=08dd73731d4c3d05',\n",
       " 'http://www.indeed.com/rc/clk?jk=a5da4445b48bf7f0',\n",
       " 'http://www.indeed.com/rc/clk?jk=3b42a7d9e37298d6',\n",
       " 'http://www.indeed.com/rc/clk?jk=c62d8cf11008cb97',\n",
       " 'http://www.indeed.com/rc/clk?jk=ab6fab81ca57c80c',\n",
       " 'http://www.indeed.com/rc/clk?jk=1955fb10554d9c97',\n",
       " 'http://www.indeed.com/rc/clk?jk=2d0bd7581ebffdc2',\n",
       " 'http://www.indeed.com/rc/clk?jk=d074ee545f30cc6e',\n",
       " 'http://www.indeed.com/rc/clk?jk=7452bd1524644e64',\n",
       " 'http://www.indeed.com/rc/clk?jk=8c99d1cb8375dc8d',\n",
       " 'http://www.indeed.com/rc/clk?jk=89c64ef4fef2769f',\n",
       " 'http://www.indeed.com/rc/clk?jk=2762800835878bca',\n",
       " 'http://www.indeed.com/rc/clk?jk=bfb558461294aa49',\n",
       " 'http://www.indeed.com/rc/clk?jk=bdd8a05f83267cbc',\n",
       " 'http://www.indeed.com/rc/clk?jk=79cf4b974c287209',\n",
       " 'http://www.indeed.com/rc/clk?jk=565cb01e7f89e0f7',\n",
       " 'http://www.indeed.com/rc/clk?jk=40b7f6e7f627580f',\n",
       " 'http://www.indeed.com/rc/clk?jk=2db167023e42bdc9',\n",
       " 'http://www.indeed.com/rc/clk?jk=ee996582aadb4463',\n",
       " 'http://www.indeed.com/rc/clk?jk=83ee98a3857f06e3',\n",
       " 'http://www.indeed.com/rc/clk?jk=51210deb0ca7b257',\n",
       " 'http://www.indeed.com/rc/clk?jk=45622e353570bf7f',\n",
       " 'http://www.indeed.com/rc/clk?jk=9788550a969df445',\n",
       " 'http://www.indeed.com/rc/clk?jk=ce178252d6c38e35',\n",
       " 'http://www.indeed.com/rc/clk?jk=00a9525ba218f696',\n",
       " 'http://www.indeed.com/rc/clk?jk=b3bb1cfe5cce80de',\n",
       " 'http://www.indeed.com/rc/clk?jk=4ed8122da46ee3b2',\n",
       " 'http://www.indeed.com/rc/clk?jk=ff7f65cd23e1f352',\n",
       " 'http://www.indeed.com/rc/clk?jk=368ec475b9d4bf15',\n",
       " 'http://www.indeed.com/rc/clk?jk=75c68de95143ff2a',\n",
       " 'http://www.indeed.com/rc/clk?jk=f069314dff791a7c',\n",
       " 'http://www.indeed.com/rc/clk?jk=3d0123fd2a8d32cf',\n",
       " 'http://www.indeed.com/rc/clk?jk=711ae01193ca21ee',\n",
       " 'http://www.indeed.com/rc/clk?jk=40ccb9236d8a2a6c',\n",
       " 'http://www.indeed.com/rc/clk?jk=062962dc54c524a3',\n",
       " 'http://www.indeed.com/rc/clk?jk=f926aa1bb1d11bc3',\n",
       " 'http://www.indeed.com/rc/clk?jk=49036341922e7261',\n",
       " 'http://www.indeed.com/rc/clk?jk=2a17ed020a51e4e8',\n",
       " 'http://www.indeed.com/rc/clk?jk=d91caf56173e676c',\n",
       " 'http://www.indeed.com/rc/clk?jk=a5ebac301769f89d',\n",
       " 'http://www.indeed.com/rc/clk?jk=a38d3e41f4daf41a',\n",
       " 'http://www.indeed.com/rc/clk?jk=0c4ed3efd36650d2',\n",
       " 'http://www.indeed.com/rc/clk?jk=373e3970fda58995',\n",
       " 'http://www.indeed.com/rc/clk?jk=34591d411108595f',\n",
       " 'http://www.indeed.com/rc/clk?jk=1038885d18fd38cd',\n",
       " 'http://www.indeed.com/rc/clk?jk=7b82e2d5c3183440',\n",
       " 'http://www.indeed.com/rc/clk?jk=9ea8ee98a9d76d85',\n",
       " 'http://www.indeed.com/rc/clk?jk=436125b44eaba12d',\n",
       " 'http://www.indeed.com/rc/clk?jk=fb9729792e53f6e3',\n",
       " 'http://www.indeed.com/rc/clk?jk=6dbee0514c83651a',\n",
       " 'http://www.indeed.com/rc/clk?jk=b20ba00ea7fd4334',\n",
       " 'http://www.indeed.com/rc/clk?jk=49775eb40c17816d',\n",
       " 'http://www.indeed.com/rc/clk?jk=019513ecd87cac97',\n",
       " 'http://www.indeed.com/rc/clk?jk=0ca5a1439e4f7940',\n",
       " 'http://www.indeed.com/rc/clk?jk=ca00869ad2b86966',\n",
       " 'http://www.indeed.com/rc/clk?jk=23400518565d30f3']"
      ]
     },
     "execution_count": 161,
     "metadata": {},
     "output_type": "execute_result"
    }
   ],
   "source": [
    "# Save the scraped links\n",
    "#with open('scraped_links.pkl', 'wb') as f:\n",
    "#    cPickle.dump(job_links, f)\n",
    "    \n",
    "# Read canned scraped links\n",
    "with open('scraped_links.pkl', 'r') as f:\n",
    "    job_links = cPickle.load(f)   \n",
    "job_links"
   ]
  },
  {
   "cell_type": "code",
   "execution_count": null,
   "metadata": {
    "collapsed": true,
    "slideshow": {
     "slide_type": "slide"
    }
   },
   "outputs": [],
   "source": [
    "skill_set = {'mapreduce': 0, 'spark': 0}\n",
    "\n",
    "## write initialization into a file, so we can restart later\n",
    "#with open('scraped_links_restart.pkl', 'wb') as f:\n",
    "#    cPickle.dump((skill_set, 0),f)    "
   ]
  },
  {
   "cell_type": "markdown",
   "metadata": {
    "slideshow": {
     "slide_type": "slide"
    }
   },
   "source": [
    "Python Dictonaries\n",
    "==================\n",
    "\n",
    "* build in data type\n",
    "* uses key: value pairs"
   ]
  },
  {
   "cell_type": "code",
   "execution_count": 163,
   "metadata": {
    "collapsed": false,
    "slideshow": {
     "slide_type": "slide"
    }
   },
   "outputs": [
    {
     "name": "stdout",
     "output_type": "stream",
     "text": [
      "{'a': 1, 'b': 2}\n",
      "['a', 'b']\n",
      "[1, 2]\n",
      "a 1\n",
      "b 2\n",
      "a 1\n",
      "b 2\n",
      "a\n"
     ]
    }
   ],
   "source": [
    "a = {'a': 1, 'b':2}\n",
    "print a\n",
    "\n",
    "#show keys\n",
    "print a.keys()\n",
    "\n",
    "#show values\n",
    "print a.values()\n",
    "\n",
    "#show for loop over all entries\n",
    "# option 1 using zip\n",
    "# this works also for iterating over any\n",
    "# other two lists\n",
    "for k,v in zip(a.keys(), a.values()):\n",
    "    print k,v\n",
    "\n",
    "# option 2 using the dictionary `iteritems()` function\n",
    "for k,v in a.iteritems():\n",
    "    print k,v\n",
    "    \n",
    "print a.keys()[0]"
   ]
  },
  {
   "cell_type": "code",
   "execution_count": 164,
   "metadata": {
    "collapsed": false,
    "slideshow": {
     "slide_type": "slide"
    }
   },
   "outputs": [
    {
     "name": "stdout",
     "output_type": "stream",
     "text": [
      "How many websites still to go?  0\n"
     ]
    }
   ],
   "source": [
    "# This code below does the trick, but could be optimized for speed if necessary\n",
    "# e.g. skills are typically listed at the end of the webpage\n",
    "# might not need to split/join the whole webpage, as we already know\n",
    "# which words we are looking for \n",
    "# and could stop after the first occurance of each word\n",
    "\n",
    "with open('scraped_links_restart.pkl', 'r') as f:\n",
    "    skill_set, index = cPickle.load(f)\n",
    "    print \"How many websites still to go? \", len(job_links) - index\n",
    "    \n",
    "    "
   ]
  },
  {
   "cell_type": "code",
   "execution_count": 181,
   "metadata": {
    "collapsed": false,
    "slideshow": {
     "slide_type": "slide"
    }
   },
   "outputs": [],
   "source": [
    "counter = 0\n",
    "\n",
    "for link in job_links[index:]:\n",
    "    counter +=1  \n",
    "    \n",
    "    try:\n",
    "        html_page = urllib2.urlopen(link).read()\n",
    "    except urllib2.HTTPError:\n",
    "        print \"HTTPError:\"\n",
    "        continue\n",
    "    except urllib2.URLError:\n",
    "        print \"URLError:\"\n",
    "        continue\n",
    "    except socket.error as error:\n",
    "        print \"Connection closed\"\n",
    "        continue\n",
    "\n",
    "    html_text = re.sub(\"[^a-z.+3]\",\" \", html_page.lower()) # replace all but the listed characters\n",
    "    print html_text        \n",
    "    for key in skill_set.keys():\n",
    "        if key in html_text:  \n",
    "            skill_set[key] +=1\n",
    "            \n",
    "    if counter % 5 == 0:\n",
    "        print len(job_links) - counter - index\n",
    "        print skill_set\n",
    "        with open('scraped_links_restart.pkl','wb') as f:\n",
    "            cPickle.dump((skill_set, index+counter),f)"
   ]
  },
  {
   "cell_type": "code",
   "execution_count": 170,
   "metadata": {
    "collapsed": false,
    "slideshow": {
     "slide_type": "slide"
    }
   },
   "outputs": [
    {
     "name": "stdout",
     "output_type": "stream",
     "text": [
      "{'spark': 31, 'mapreduce': 16}\n"
     ]
    }
   ],
   "source": [
    "print skill_set"
   ]
  },
  {
   "cell_type": "code",
   "execution_count": 171,
   "metadata": {
    "collapsed": false,
    "slideshow": {
     "slide_type": "slide"
    }
   },
   "outputs": [
    {
     "name": "stderr",
     "output_type": "stream",
     "text": [
      "/home/harisk87/.local/lib/python2.7/site-packages/ipykernel/__main__.py:2: FutureWarning: sort is deprecated, use sort_values(inplace=True) for INPLACE sorting\n",
      "  from ipykernel import kernelapp as app\n"
     ]
    },
    {
     "data": {
      "image/png": "[encoded data removed]",
      "text/plain": [
       "<matplotlib.figure.Figure at 0x7f576afbc250>"
      ]
     },
     "metadata": {},
     "output_type": "display_data"
    }
   ],
   "source": [
    "pseries = pd.Series(skill_set)\n",
    "pseries.sort(ascending=False)\n",
    "\n",
    "pseries.plot(kind = 'bar')\n",
    "## set the title to Score Comparison\n",
    "plt.title('Data Science Skills')\n",
    "plt.xlabel('Skills')\n",
    "plt.ylabel('Count')\n",
    "plt.show()"
   ]
  },
  {
   "cell_type": "markdown",
   "metadata": {},
   "source": [
    "Some more regular expressions:\n",
    "================="
   ]
  },
  {
   "cell_type": "code",
   "execution_count": null,
   "metadata": {
    "collapsed": true
   },
   "outputs": [],
   "source": []
  },
  {
   "cell_type": "markdown",
   "metadata": {
    "slideshow": {
     "slide_type": "slide"
    }
   },
   "source": [
    "Another Example\n",
    "================\n",
    "\n",
    "Designed by Katharine Jarmul\n",
    "----------------------------\n",
    "\n",
    "https://github.com/kjam/python-web-scraping-tutorial\n",
    "\n",
    "\n"
   ]
  },
  {
   "cell_type": "markdown",
   "metadata": {
    "slideshow": {
     "slide_type": "slide"
    }
   },
   "source": [
    "Scraping Happy Hours\n",
    "====================\n",
    "\n",
    "Scrape the happy hour list of LA for personal preferences\n",
    "\n",
    "http://www.downtownla.com/3_10_happyHours.asp?action=ALL\n",
    "\n",
    "This example is part of her talk about data scraping at PyCon2014. She is a really good speaker and I enjoyed watching her talk. Check it out: http://www.youtube.com/watch?v=p1iX0uxM1w8"
   ]
  },
  {
   "cell_type": "code",
   "execution_count": null,
   "metadata": {
    "collapsed": false,
    "slideshow": {
     "slide_type": "slide"
    }
   },
   "outputs": [],
   "source": [
    "stuff_i_like = ['burger', 'sushi', 'sweet potato fries', 'BBQ','beer']\n",
    "found_happy_hours = []\n",
    "my_happy_hours = []\n",
    "# First, I'm going to identify the areas of the page I want to look at\n",
    "url = 'http://www.downtownla.com/3_10_happyHours.asp?action=ALL'\n",
    "source = urllib2.urlopen(url).read()\n",
    "tables = bs4.BeautifulSoup(source)"
   ]
  },
  {
   "cell_type": "code",
   "execution_count": null,
   "metadata": {
    "collapsed": false,
    "slideshow": {
     "slide_type": "slide"
    }
   },
   "outputs": [],
   "source": [
    "# Then, I'm going to sort out the *exact* parts of the page\n",
    "# that match what I'm looking for...\n",
    "for t in tables.findAll('p', {'class': 'calendar_EventTitle'}):\n",
    "    text = t.text\n",
    "    for s in t.findNextSiblings():\n",
    "        text += '\\n' + s.text\n",
    "    found_happy_hours.append(text)\n",
    "\n",
    "print \"The scraper found %d happy hours!\" % len(found_happy_hours)"
   ]
  },
  {
   "cell_type": "code",
   "execution_count": null,
   "metadata": {
    "collapsed": false,
    "slideshow": {
     "slide_type": "slide"
    }
   },
   "outputs": [],
   "source": [
    "# Now I'm going to loop through the food I like\n",
    "# and see if any of the happy hour descriptions match\n",
    "for food in stuff_i_like:\n",
    "    for hh in found_happy_hours:\n",
    "        # checking for text AND making sure I don't have duplicates\n",
    "        if food in hh and hh not in my_happy_hours:\n",
    "            print \"YAY! I found some %s!\" % food\n",
    "            my_happy_hours.append(hh)\n",
    "\n",
    "print \"I think you might like %d of them, yipeeeee!\" % len(my_happy_hours)"
   ]
  },
  {
   "cell_type": "code",
   "execution_count": null,
   "metadata": {
    "collapsed": false,
    "slideshow": {
     "slide_type": "slide"
    }
   },
   "outputs": [],
   "source": [
    "# Now, let's make a mail message we can read:\n",
    "message = 'Hey Katharine,\\n\\n\\n'\n",
    "message += 'OMG, I found some stuff for you in Downtown, take a look.\\n\\n'\n",
    "message += '==============================\\n'.join(my_happy_hours)\n",
    "message = message.encode('utf-8')\n",
    "# To read more about encoding:\n",
    "# http://diveintopython.org/xml_processing/unicode.html\n",
    "message = message.replace('\\t', '').replace('\\r', '')\n",
    "message += '\\n\\nXOXO,\\n Your Py Script'\n",
    "\n",
    "#print message"
   ]
  },
  {
   "cell_type": "markdown",
   "metadata": {
    "slideshow": {
     "slide_type": "slide"
    }
   },
   "source": [
    "Getting Data with an API\n",
    "=========================\n",
    "\n",
    "* API: application programming interface\n",
    "* some sites try to make your life easier\n",
    "* Twitter, New York Times, ImDB, rotten Tomatoes, Yelp, ..."
   ]
  },
  {
   "cell_type": "markdown",
   "metadata": {
    "slideshow": {
     "slide_type": "slide"
    }
   },
   "source": [
    "Rotten Tomatoes\n",
    "===============\n",
    "\n",
    "![The Wizard of Oz](images/wiz_oz.png \"The wizard of Oz\")\n",
    "\n",
    "http://www.rottentomatoes.com/top/\n"
   ]
  },
  {
   "cell_type": "markdown",
   "metadata": {
    "slideshow": {
     "slide_type": "slide"
    }
   },
   "source": [
    "API keys\n",
    "=========\n",
    "\n",
    "* required for data access\n",
    "* identifies application (you)\n",
    "* monitors usage\n",
    "* limits rates"
   ]
  },
  {
   "cell_type": "markdown",
   "metadata": {
    "slideshow": {
     "slide_type": "slide"
    }
   },
   "source": [
    "Rotten Tomatoes Key\n",
    "===================\n",
    "\n",
    "http://developer.rottentomatoes.com/member/register"
   ]
  },
  {
   "cell_type": "code",
   "execution_count": null,
   "metadata": {
    "collapsed": false,
    "slideshow": {
     "slide_type": "slide"
    }
   },
   "outputs": [],
   "source": [
    "import json\n",
    "import requests\n",
    "\n",
    "api_key = rottenTomatoes_key()\n",
    "\n",
    "url = 'http://api.rottentomatoes.com/api/public/v1.0/lists/dvds/top_rentals.json?apikey=' + api_key\n",
    "data = urllib2.urlopen(url).read()\n",
    "#print data"
   ]
  },
  {
   "cell_type": "markdown",
   "metadata": {
    "slideshow": {
     "slide_type": "slide"
    }
   },
   "source": [
    "JSON\n",
    "======\n",
    "\n",
    "* JavaScript Object Notation\n",
    "* human readable\n",
    "* transmit attribute-value pairs"
   ]
  },
  {
   "cell_type": "code",
   "execution_count": null,
   "metadata": {
    "collapsed": false,
    "slideshow": {
     "slide_type": "slide"
    }
   },
   "outputs": [],
   "source": [
    "a = {'a': 1, 'b':2}\n",
    "s = json.dumps(a)\n",
    "a2 = json.loads(s)\n",
    "\n",
    "## a is a dictionary\n",
    "print a\n",
    "## vs s is a string containing a in JSON encoding\n",
    "print s\n",
    "## reading back the keys are now in unicode\n",
    "print a2"
   ]
  },
  {
   "cell_type": "code",
   "execution_count": null,
   "metadata": {
    "collapsed": false,
    "slideshow": {
     "slide_type": "slide"
    }
   },
   "outputs": [],
   "source": [
    "## create dictionary from JSON \n",
    "dataDict = json.loads(data)\n",
    "\n",
    "## explore dictionary\n",
    "print \"Starting keys:\"\n",
    "print dataDict.keys()\n",
    "print\n",
    "\n",
    "## there is a key named `movies` containing a list of movies as a value\n",
    "movies = dataDict['movies']\n",
    "\n",
    "## each element of the list `movies` is a dictionary\n",
    "print \"Movie keys:\"\n",
    "print movies[0].keys()\n",
    "print"
   ]
  },
  {
   "cell_type": "code",
   "execution_count": null,
   "metadata": {
    "collapsed": false,
    "slideshow": {
     "slide_type": "slide"
    }
   },
   "outputs": [],
   "source": [
    "## one of the keys is called `ratings`\n",
    "## the value is yet another dictionary\n",
    "print \"Movie rating keys:\"\n",
    "print movies[0]['ratings'].keys()\n",
    "print\n",
    "\n",
    "## so we made it all the way to find the critics score\n",
    "print \"Movie critics score rating:\"\n",
    "print movies[0]['ratings']['critics_score']\n",
    "print"
   ]
  },
  {
   "cell_type": "markdown",
   "metadata": {
    "slideshow": {
     "slide_type": "slide"
    }
   },
   "source": [
    "Quiz\n",
    "=====\n",
    "\n",
    "* build a list with critics scores\n",
    "* build a list with audience scores"
   ]
  },
  {
   "cell_type": "code",
   "execution_count": null,
   "metadata": {
    "collapsed": false,
    "slideshow": {
     "slide_type": "slide"
    }
   },
   "outputs": [],
   "source": [
    "# critics scores list\n",
    "critics_scores = [m['ratings']['critics_score'] for m in movies]\n",
    "\n",
    "# audience scores list\n",
    "audience_scores = [m['ratings']['audience_score'] for m in movies]"
   ]
  },
  {
   "cell_type": "markdown",
   "metadata": {
    "slideshow": {
     "slide_type": "skip"
    }
   },
   "source": [
    "The following code shows how to create a pandas data frame with the data we gathered from the webpage.\n",
    "Beware of the `set_index()` function in pandas. Per default it does not change the actual data frame! You need to either reassign the output or set the `inplace` argument to `True`."
   ]
  },
  {
   "cell_type": "code",
   "execution_count": null,
   "metadata": {
    "collapsed": false,
    "slideshow": {
     "slide_type": "slide"
    }
   },
   "outputs": [],
   "source": [
    "## create pandas data frame with critics and audience score\n",
    "scores = pd.DataFrame(data=[critics_scores, audience_scores]).transpose()\n",
    "scores.columns = ['critics', 'audience']\n",
    "\n",
    "## also create a list with all movie titles\n",
    "movie_titles = [m['title'] for m in movies]\n",
    "\n",
    "## set index of dataFrame BEWARE of inplace!\n",
    "scores.set_index([movie_titles])\n",
    "\n",
    "## the line above does not changes scores!\n",
    "## You need to either reassign\n",
    "\n",
    "scores = scores.set_index([movie_titles])\n",
    "\n",
    "## or set the inplace argument to True\n",
    "scores.set_index([movie_titles], inplace=True)\n",
    "scores.head(3)"
   ]
  },
  {
   "cell_type": "code",
   "execution_count": null,
   "metadata": {
    "collapsed": false,
    "slideshow": {
     "slide_type": "slide"
    }
   },
   "outputs": [],
   "source": [
    "## create a bar plot with the data\n",
    "## notice that we are using the data frame itself and call its plot function\n",
    "scores.plot(kind = 'bar')\n",
    "\n",
    "## set the title to Score Comparison\n",
    "plt.title('Score Comparison')\n",
    "\n",
    "## set the x label\n",
    "plt.xlabel('Movies')\n",
    "\n",
    "## set the y label\n",
    "plt.ylabel('Scores')"
   ]
  },
  {
   "cell_type": "code",
   "execution_count": null,
   "metadata": {
    "collapsed": false,
    "slideshow": {
     "slide_type": "slide"
    }
   },
   "outputs": [],
   "source": [
    "## show the plot\n",
    "plt.show()"
   ]
  },
  {
   "cell_type": "markdown",
   "metadata": {
    "slideshow": {
     "slide_type": "slide"
    }
   },
   "source": [
    "Twitter Example:\n",
    "================\n",
    "\n",
    "* API a bit more complicated\n",
    "* libraries make life easier\n",
    "* python-twitter\n",
    "\n",
    "https://github.com/bear/python-twitter\n",
    "\n",
    "What we are going to do is scrape Joe's twitter account, and then filter it for the interesting tweets. Defining interesting as tweets that have be re-tweeted at least 10 times. \n"
   ]
  },
  {
   "cell_type": "code",
   "execution_count": null,
   "metadata": {
    "collapsed": false,
    "slideshow": {
     "slide_type": "slide"
    }
   },
   "outputs": [],
   "source": [
    "import twitter\n",
    "\n",
    "## define the necessary keys\n",
    "cKey = twitterAPI_key()\n",
    "cSecret = twitterAPI_secret()\n",
    "aKey = twitterAPI_access_token_key()\n",
    "aSecret = twitterAPI_access_token_secret()\n",
    "\n",
    "## create the api object with the twitter-python library\n",
    "api = twitter.Api(consumer_key=cKey, consumer_secret=cSecret, access_token_key=aKey, access_token_secret=aSecret)\n"
   ]
  },
  {
   "cell_type": "code",
   "execution_count": null,
   "metadata": {
    "collapsed": false,
    "slideshow": {
     "slide_type": "slide"
    }
   },
   "outputs": [],
   "source": [
    "## get the user timeline with screen_name = 'stat110'\n",
    "twitter_statuses = api.GetUserTimeline(screen_name = 'stat110')\n",
    "\n",
    "## create a data frame\n",
    "## first get a list of panda Series or dict\n",
    "pdSeriesList = [pd.Series(t.AsDict()) for t in twitter_statuses]\n",
    "\n",
    "## then create the data frame\n",
    "data = pd.DataFrame(pdSeriesList)\n",
    "\n",
    "data.head(2)"
   ]
  },
  {
   "cell_type": "code",
   "execution_count": null,
   "metadata": {
    "collapsed": false,
    "slideshow": {
     "slide_type": "slide"
    }
   },
   "outputs": [],
   "source": [
    "## filter tweets with enough retweet_count\n",
    "maybe_interesting = data[data.retweet_count>20]\n",
    "\n",
    "## get the text of these tweets\n",
    "tweet_text = maybe_interesting.text\n",
    "\n",
    "## print them out\n",
    "text = tweet_text.values\n",
    "\n",
    "for t in text:\n",
    "    print '######'\n",
    "    print t"
   ]
  },
  {
   "cell_type": "markdown",
   "metadata": {
    "slideshow": {
     "slide_type": "skip"
    }
   },
   "source": [
    "Extracting columns:\n",
    "===================\n",
    "\n",
    "__Warning:__ The returned column `tweet_text` is a `view` on the data\n",
    "    \n",
    "* it is not a copy\n",
    "* you change the Series => you change the DataFrame\n",
    "\n",
    "Below is another example of such a view:"
   ]
  },
  {
   "cell_type": "code",
   "execution_count": null,
   "metadata": {
    "collapsed": false,
    "slideshow": {
     "slide_type": "skip"
    }
   },
   "outputs": [],
   "source": [
    "## create a view for favorite_count on maybe_interesting\n",
    "view = maybe_interesting['favorite_count']\n",
    "print '-----------------'\n",
    "print \"This is view:\"\n",
    "print view\n",
    "## change a value\n",
    "view[8] = 9999\n",
    "\n",
    "## look at original frame\n",
    "print '-----------------'\n",
    "print \"This is view after changing view[8]\"\n",
    "print view\n",
    "\n",
    "print '-----------------'\n",
    "print \"This is maybe_interesting after changing view[8]\"\n",
    "print \"It changed too!\"\n",
    "print maybe_interesting['favorite_count']\n",
    "\n",
    "## to avoid this you can use copy\n",
    "independent_data = maybe_interesting['favorite_count'].copy()\n",
    "independent_data[10] = 999\n",
    "print '-----------------'\n",
    "print \"This is independent_data after changed at 10:\"\n",
    "print independent_data\n",
    "print '-----------------'\n",
    "print \"This is maybe_interesting after changing independent_data:\"\n",
    "print \"It did not change because we only changed a copy of it\"\n",
    "print maybe_interesting['favorite_count']"
   ]
  },
  {
   "cell_type": "markdown",
   "metadata": {
    "collapsed": true,
    "slideshow": {
     "slide_type": "slide"
    }
   },
   "source": [
    "What we covered today:\n",
    "============\n",
    "\n",
    "* Pandas data frames\n",
    "* Guidelines for friendly scraping\n",
    "* Scraping html sites\n",
    "* Scraping with Api's\n",
    "* Basic data cleanup\n"
   ]
  },
  {
   "cell_type": "markdown",
   "metadata": {
    "slideshow": {
     "slide_type": "slide"
    }
   },
   "source": [
    "Further material\n",
    "================\n",
    "\n",
    "* I highly recommend Katharine Jarmul's scraping tutorials\n",
    "* For example [this one](https://www.youtube.com/watch?v=p1iX0uxM1w8)\n",
    "* Pandas has extensive [documentation](http://pandas.pydata.org/pandas-docs/stable/)\n",
    "* Especially the [tem minutes to pandas chapter](http://pandas.pydata.org/pandas-docs/stable/10min.html)\n",
    "\n",
    "* [Greg Reda](http://www.gregreda.com/2013/10/26/using-pandas-on-the-movielens-dataset/) did a lot more pandas examples for the movie lens data set"
   ]
  },
  {
   "cell_type": "code",
   "execution_count": null,
   "metadata": {
    "collapsed": true
   },
   "outputs": [],
   "source": []
  },
  {
   "cell_type": "code",
   "execution_count": null,
   "metadata": {
    "collapsed": true
   },
   "outputs": [],
   "source": []
  }
 ],
 "metadata": {
  "celltoolbar": "Slideshow",
  "kernelspec": {
   "display_name": "Python 2",
   "language": "python",
   "name": "python2"
  },
  "language_info": {
   "codemirror_mode": {
    "name": "ipython",
    "version": 2
   },
   "file_extension": ".py",
   "mimetype": "text/x-python",
   "name": "python",
   "nbconvert_exporter": "python",
   "pygments_lexer": "ipython2",
   "version": "2.7.11+"
  }
 },
 "nbformat": 4,
 "nbformat_minor": 0
}
